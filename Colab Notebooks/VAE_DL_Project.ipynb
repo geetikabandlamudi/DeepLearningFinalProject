{
  "nbformat": 4,
  "nbformat_minor": 0,
  "metadata": {
    "colab": {
      "provenance": [],
      "gpuType": "T4"
    },
    "kernelspec": {
      "name": "python3",
      "display_name": "Python 3"
    },
    "language_info": {
      "name": "python"
    },
    "gpuClass": "standard",
    "accelerator": "GPU",
    "widgets": {
      "application/vnd.jupyter.widget-state+json": {
        "c2d9b675202a45b0bf7a749f4566870a": {
          "model_module": "@jupyter-widgets/controls",
          "model_name": "HBoxModel",
          "model_module_version": "1.5.0",
          "state": {
            "_dom_classes": [],
            "_model_module": "@jupyter-widgets/controls",
            "_model_module_version": "1.5.0",
            "_model_name": "HBoxModel",
            "_view_count": null,
            "_view_module": "@jupyter-widgets/controls",
            "_view_module_version": "1.5.0",
            "_view_name": "HBoxView",
            "box_style": "",
            "children": [
              "IPY_MODEL_2d5e9446a19d4e1592f2ec3f6c88eaac",
              "IPY_MODEL_7bb5206abe1e4fd39f798ef7c8c3fbc8",
              "IPY_MODEL_2d41a1d5dbce4a4fbf0394012081f0a4"
            ],
            "layout": "IPY_MODEL_075bf1d97206453da7a699d6c041ac5d"
          }
        },
        "2d5e9446a19d4e1592f2ec3f6c88eaac": {
          "model_module": "@jupyter-widgets/controls",
          "model_name": "HTMLModel",
          "model_module_version": "1.5.0",
          "state": {
            "_dom_classes": [],
            "_model_module": "@jupyter-widgets/controls",
            "_model_module_version": "1.5.0",
            "_model_name": "HTMLModel",
            "_view_count": null,
            "_view_module": "@jupyter-widgets/controls",
            "_view_module_version": "1.5.0",
            "_view_name": "HTMLView",
            "description": "",
            "description_tooltip": null,
            "layout": "IPY_MODEL_05743d10fd4942bb8be6cd5f36eb9187",
            "placeholder": "​",
            "style": "IPY_MODEL_018e78bb96e14244bf9f0c7390c523e4",
            "value": "Downloading (…)solve/main/vocab.txt: 100%"
          }
        },
        "7bb5206abe1e4fd39f798ef7c8c3fbc8": {
          "model_module": "@jupyter-widgets/controls",
          "model_name": "FloatProgressModel",
          "model_module_version": "1.5.0",
          "state": {
            "_dom_classes": [],
            "_model_module": "@jupyter-widgets/controls",
            "_model_module_version": "1.5.0",
            "_model_name": "FloatProgressModel",
            "_view_count": null,
            "_view_module": "@jupyter-widgets/controls",
            "_view_module_version": "1.5.0",
            "_view_name": "ProgressView",
            "bar_style": "success",
            "description": "",
            "description_tooltip": null,
            "layout": "IPY_MODEL_03391a5ddf14443b832406ef732faf96",
            "max": 231508,
            "min": 0,
            "orientation": "horizontal",
            "style": "IPY_MODEL_c5637a009c5c4bee842dc522dd8d968c",
            "value": 231508
          }
        },
        "2d41a1d5dbce4a4fbf0394012081f0a4": {
          "model_module": "@jupyter-widgets/controls",
          "model_name": "HTMLModel",
          "model_module_version": "1.5.0",
          "state": {
            "_dom_classes": [],
            "_model_module": "@jupyter-widgets/controls",
            "_model_module_version": "1.5.0",
            "_model_name": "HTMLModel",
            "_view_count": null,
            "_view_module": "@jupyter-widgets/controls",
            "_view_module_version": "1.5.0",
            "_view_name": "HTMLView",
            "description": "",
            "description_tooltip": null,
            "layout": "IPY_MODEL_8d1b60c1df304140bba94f51f9a3eaf1",
            "placeholder": "​",
            "style": "IPY_MODEL_559f63bd78b34e2d99e58381bc09fe57",
            "value": " 232k/232k [00:00&lt;00:00, 399kB/s]"
          }
        },
        "075bf1d97206453da7a699d6c041ac5d": {
          "model_module": "@jupyter-widgets/base",
          "model_name": "LayoutModel",
          "model_module_version": "1.2.0",
          "state": {
            "_model_module": "@jupyter-widgets/base",
            "_model_module_version": "1.2.0",
            "_model_name": "LayoutModel",
            "_view_count": null,
            "_view_module": "@jupyter-widgets/base",
            "_view_module_version": "1.2.0",
            "_view_name": "LayoutView",
            "align_content": null,
            "align_items": null,
            "align_self": null,
            "border": null,
            "bottom": null,
            "display": null,
            "flex": null,
            "flex_flow": null,
            "grid_area": null,
            "grid_auto_columns": null,
            "grid_auto_flow": null,
            "grid_auto_rows": null,
            "grid_column": null,
            "grid_gap": null,
            "grid_row": null,
            "grid_template_areas": null,
            "grid_template_columns": null,
            "grid_template_rows": null,
            "height": null,
            "justify_content": null,
            "justify_items": null,
            "left": null,
            "margin": null,
            "max_height": null,
            "max_width": null,
            "min_height": null,
            "min_width": null,
            "object_fit": null,
            "object_position": null,
            "order": null,
            "overflow": null,
            "overflow_x": null,
            "overflow_y": null,
            "padding": null,
            "right": null,
            "top": null,
            "visibility": null,
            "width": null
          }
        },
        "05743d10fd4942bb8be6cd5f36eb9187": {
          "model_module": "@jupyter-widgets/base",
          "model_name": "LayoutModel",
          "model_module_version": "1.2.0",
          "state": {
            "_model_module": "@jupyter-widgets/base",
            "_model_module_version": "1.2.0",
            "_model_name": "LayoutModel",
            "_view_count": null,
            "_view_module": "@jupyter-widgets/base",
            "_view_module_version": "1.2.0",
            "_view_name": "LayoutView",
            "align_content": null,
            "align_items": null,
            "align_self": null,
            "border": null,
            "bottom": null,
            "display": null,
            "flex": null,
            "flex_flow": null,
            "grid_area": null,
            "grid_auto_columns": null,
            "grid_auto_flow": null,
            "grid_auto_rows": null,
            "grid_column": null,
            "grid_gap": null,
            "grid_row": null,
            "grid_template_areas": null,
            "grid_template_columns": null,
            "grid_template_rows": null,
            "height": null,
            "justify_content": null,
            "justify_items": null,
            "left": null,
            "margin": null,
            "max_height": null,
            "max_width": null,
            "min_height": null,
            "min_width": null,
            "object_fit": null,
            "object_position": null,
            "order": null,
            "overflow": null,
            "overflow_x": null,
            "overflow_y": null,
            "padding": null,
            "right": null,
            "top": null,
            "visibility": null,
            "width": null
          }
        },
        "018e78bb96e14244bf9f0c7390c523e4": {
          "model_module": "@jupyter-widgets/controls",
          "model_name": "DescriptionStyleModel",
          "model_module_version": "1.5.0",
          "state": {
            "_model_module": "@jupyter-widgets/controls",
            "_model_module_version": "1.5.0",
            "_model_name": "DescriptionStyleModel",
            "_view_count": null,
            "_view_module": "@jupyter-widgets/base",
            "_view_module_version": "1.2.0",
            "_view_name": "StyleView",
            "description_width": ""
          }
        },
        "03391a5ddf14443b832406ef732faf96": {
          "model_module": "@jupyter-widgets/base",
          "model_name": "LayoutModel",
          "model_module_version": "1.2.0",
          "state": {
            "_model_module": "@jupyter-widgets/base",
            "_model_module_version": "1.2.0",
            "_model_name": "LayoutModel",
            "_view_count": null,
            "_view_module": "@jupyter-widgets/base",
            "_view_module_version": "1.2.0",
            "_view_name": "LayoutView",
            "align_content": null,
            "align_items": null,
            "align_self": null,
            "border": null,
            "bottom": null,
            "display": null,
            "flex": null,
            "flex_flow": null,
            "grid_area": null,
            "grid_auto_columns": null,
            "grid_auto_flow": null,
            "grid_auto_rows": null,
            "grid_column": null,
            "grid_gap": null,
            "grid_row": null,
            "grid_template_areas": null,
            "grid_template_columns": null,
            "grid_template_rows": null,
            "height": null,
            "justify_content": null,
            "justify_items": null,
            "left": null,
            "margin": null,
            "max_height": null,
            "max_width": null,
            "min_height": null,
            "min_width": null,
            "object_fit": null,
            "object_position": null,
            "order": null,
            "overflow": null,
            "overflow_x": null,
            "overflow_y": null,
            "padding": null,
            "right": null,
            "top": null,
            "visibility": null,
            "width": null
          }
        },
        "c5637a009c5c4bee842dc522dd8d968c": {
          "model_module": "@jupyter-widgets/controls",
          "model_name": "ProgressStyleModel",
          "model_module_version": "1.5.0",
          "state": {
            "_model_module": "@jupyter-widgets/controls",
            "_model_module_version": "1.5.0",
            "_model_name": "ProgressStyleModel",
            "_view_count": null,
            "_view_module": "@jupyter-widgets/base",
            "_view_module_version": "1.2.0",
            "_view_name": "StyleView",
            "bar_color": null,
            "description_width": ""
          }
        },
        "8d1b60c1df304140bba94f51f9a3eaf1": {
          "model_module": "@jupyter-widgets/base",
          "model_name": "LayoutModel",
          "model_module_version": "1.2.0",
          "state": {
            "_model_module": "@jupyter-widgets/base",
            "_model_module_version": "1.2.0",
            "_model_name": "LayoutModel",
            "_view_count": null,
            "_view_module": "@jupyter-widgets/base",
            "_view_module_version": "1.2.0",
            "_view_name": "LayoutView",
            "align_content": null,
            "align_items": null,
            "align_self": null,
            "border": null,
            "bottom": null,
            "display": null,
            "flex": null,
            "flex_flow": null,
            "grid_area": null,
            "grid_auto_columns": null,
            "grid_auto_flow": null,
            "grid_auto_rows": null,
            "grid_column": null,
            "grid_gap": null,
            "grid_row": null,
            "grid_template_areas": null,
            "grid_template_columns": null,
            "grid_template_rows": null,
            "height": null,
            "justify_content": null,
            "justify_items": null,
            "left": null,
            "margin": null,
            "max_height": null,
            "max_width": null,
            "min_height": null,
            "min_width": null,
            "object_fit": null,
            "object_position": null,
            "order": null,
            "overflow": null,
            "overflow_x": null,
            "overflow_y": null,
            "padding": null,
            "right": null,
            "top": null,
            "visibility": null,
            "width": null
          }
        },
        "559f63bd78b34e2d99e58381bc09fe57": {
          "model_module": "@jupyter-widgets/controls",
          "model_name": "DescriptionStyleModel",
          "model_module_version": "1.5.0",
          "state": {
            "_model_module": "@jupyter-widgets/controls",
            "_model_module_version": "1.5.0",
            "_model_name": "DescriptionStyleModel",
            "_view_count": null,
            "_view_module": "@jupyter-widgets/base",
            "_view_module_version": "1.2.0",
            "_view_name": "StyleView",
            "description_width": ""
          }
        },
        "d7b016622e1b4c44b307192b57ff80e2": {
          "model_module": "@jupyter-widgets/controls",
          "model_name": "HBoxModel",
          "model_module_version": "1.5.0",
          "state": {
            "_dom_classes": [],
            "_model_module": "@jupyter-widgets/controls",
            "_model_module_version": "1.5.0",
            "_model_name": "HBoxModel",
            "_view_count": null,
            "_view_module": "@jupyter-widgets/controls",
            "_view_module_version": "1.5.0",
            "_view_name": "HBoxView",
            "box_style": "",
            "children": [
              "IPY_MODEL_02dc69af05c844cfa2f4a902d558a845",
              "IPY_MODEL_e3dc6e57465e4d9abe6f37a32265af7c",
              "IPY_MODEL_b75568d193124fa2865a42da3885d52d"
            ],
            "layout": "IPY_MODEL_aa044d90fb7a43cb8f77595cf8dedd7c"
          }
        },
        "02dc69af05c844cfa2f4a902d558a845": {
          "model_module": "@jupyter-widgets/controls",
          "model_name": "HTMLModel",
          "model_module_version": "1.5.0",
          "state": {
            "_dom_classes": [],
            "_model_module": "@jupyter-widgets/controls",
            "_model_module_version": "1.5.0",
            "_model_name": "HTMLModel",
            "_view_count": null,
            "_view_module": "@jupyter-widgets/controls",
            "_view_module_version": "1.5.0",
            "_view_name": "HTMLView",
            "description": "",
            "description_tooltip": null,
            "layout": "IPY_MODEL_e923ff966e954d578bad21dafe19cbcb",
            "placeholder": "​",
            "style": "IPY_MODEL_c3d4a1b6cc8c4e3bab36f86f199c5477",
            "value": "Downloading (…)okenizer_config.json: 100%"
          }
        },
        "e3dc6e57465e4d9abe6f37a32265af7c": {
          "model_module": "@jupyter-widgets/controls",
          "model_name": "FloatProgressModel",
          "model_module_version": "1.5.0",
          "state": {
            "_dom_classes": [],
            "_model_module": "@jupyter-widgets/controls",
            "_model_module_version": "1.5.0",
            "_model_name": "FloatProgressModel",
            "_view_count": null,
            "_view_module": "@jupyter-widgets/controls",
            "_view_module_version": "1.5.0",
            "_view_name": "ProgressView",
            "bar_style": "success",
            "description": "",
            "description_tooltip": null,
            "layout": "IPY_MODEL_12a8143c8e8f4ef09879494e232468de",
            "max": 28,
            "min": 0,
            "orientation": "horizontal",
            "style": "IPY_MODEL_a8f1de81e70c41c3abdbc7fc50b9b9bc",
            "value": 28
          }
        },
        "b75568d193124fa2865a42da3885d52d": {
          "model_module": "@jupyter-widgets/controls",
          "model_name": "HTMLModel",
          "model_module_version": "1.5.0",
          "state": {
            "_dom_classes": [],
            "_model_module": "@jupyter-widgets/controls",
            "_model_module_version": "1.5.0",
            "_model_name": "HTMLModel",
            "_view_count": null,
            "_view_module": "@jupyter-widgets/controls",
            "_view_module_version": "1.5.0",
            "_view_name": "HTMLView",
            "description": "",
            "description_tooltip": null,
            "layout": "IPY_MODEL_f3d18d3ff8254aa493ed51b7f62012b4",
            "placeholder": "​",
            "style": "IPY_MODEL_af1190b0891a4751ade113c640e07e70",
            "value": " 28.0/28.0 [00:00&lt;00:00, 1.38kB/s]"
          }
        },
        "aa044d90fb7a43cb8f77595cf8dedd7c": {
          "model_module": "@jupyter-widgets/base",
          "model_name": "LayoutModel",
          "model_module_version": "1.2.0",
          "state": {
            "_model_module": "@jupyter-widgets/base",
            "_model_module_version": "1.2.0",
            "_model_name": "LayoutModel",
            "_view_count": null,
            "_view_module": "@jupyter-widgets/base",
            "_view_module_version": "1.2.0",
            "_view_name": "LayoutView",
            "align_content": null,
            "align_items": null,
            "align_self": null,
            "border": null,
            "bottom": null,
            "display": null,
            "flex": null,
            "flex_flow": null,
            "grid_area": null,
            "grid_auto_columns": null,
            "grid_auto_flow": null,
            "grid_auto_rows": null,
            "grid_column": null,
            "grid_gap": null,
            "grid_row": null,
            "grid_template_areas": null,
            "grid_template_columns": null,
            "grid_template_rows": null,
            "height": null,
            "justify_content": null,
            "justify_items": null,
            "left": null,
            "margin": null,
            "max_height": null,
            "max_width": null,
            "min_height": null,
            "min_width": null,
            "object_fit": null,
            "object_position": null,
            "order": null,
            "overflow": null,
            "overflow_x": null,
            "overflow_y": null,
            "padding": null,
            "right": null,
            "top": null,
            "visibility": null,
            "width": null
          }
        },
        "e923ff966e954d578bad21dafe19cbcb": {
          "model_module": "@jupyter-widgets/base",
          "model_name": "LayoutModel",
          "model_module_version": "1.2.0",
          "state": {
            "_model_module": "@jupyter-widgets/base",
            "_model_module_version": "1.2.0",
            "_model_name": "LayoutModel",
            "_view_count": null,
            "_view_module": "@jupyter-widgets/base",
            "_view_module_version": "1.2.0",
            "_view_name": "LayoutView",
            "align_content": null,
            "align_items": null,
            "align_self": null,
            "border": null,
            "bottom": null,
            "display": null,
            "flex": null,
            "flex_flow": null,
            "grid_area": null,
            "grid_auto_columns": null,
            "grid_auto_flow": null,
            "grid_auto_rows": null,
            "grid_column": null,
            "grid_gap": null,
            "grid_row": null,
            "grid_template_areas": null,
            "grid_template_columns": null,
            "grid_template_rows": null,
            "height": null,
            "justify_content": null,
            "justify_items": null,
            "left": null,
            "margin": null,
            "max_height": null,
            "max_width": null,
            "min_height": null,
            "min_width": null,
            "object_fit": null,
            "object_position": null,
            "order": null,
            "overflow": null,
            "overflow_x": null,
            "overflow_y": null,
            "padding": null,
            "right": null,
            "top": null,
            "visibility": null,
            "width": null
          }
        },
        "c3d4a1b6cc8c4e3bab36f86f199c5477": {
          "model_module": "@jupyter-widgets/controls",
          "model_name": "DescriptionStyleModel",
          "model_module_version": "1.5.0",
          "state": {
            "_model_module": "@jupyter-widgets/controls",
            "_model_module_version": "1.5.0",
            "_model_name": "DescriptionStyleModel",
            "_view_count": null,
            "_view_module": "@jupyter-widgets/base",
            "_view_module_version": "1.2.0",
            "_view_name": "StyleView",
            "description_width": ""
          }
        },
        "12a8143c8e8f4ef09879494e232468de": {
          "model_module": "@jupyter-widgets/base",
          "model_name": "LayoutModel",
          "model_module_version": "1.2.0",
          "state": {
            "_model_module": "@jupyter-widgets/base",
            "_model_module_version": "1.2.0",
            "_model_name": "LayoutModel",
            "_view_count": null,
            "_view_module": "@jupyter-widgets/base",
            "_view_module_version": "1.2.0",
            "_view_name": "LayoutView",
            "align_content": null,
            "align_items": null,
            "align_self": null,
            "border": null,
            "bottom": null,
            "display": null,
            "flex": null,
            "flex_flow": null,
            "grid_area": null,
            "grid_auto_columns": null,
            "grid_auto_flow": null,
            "grid_auto_rows": null,
            "grid_column": null,
            "grid_gap": null,
            "grid_row": null,
            "grid_template_areas": null,
            "grid_template_columns": null,
            "grid_template_rows": null,
            "height": null,
            "justify_content": null,
            "justify_items": null,
            "left": null,
            "margin": null,
            "max_height": null,
            "max_width": null,
            "min_height": null,
            "min_width": null,
            "object_fit": null,
            "object_position": null,
            "order": null,
            "overflow": null,
            "overflow_x": null,
            "overflow_y": null,
            "padding": null,
            "right": null,
            "top": null,
            "visibility": null,
            "width": null
          }
        },
        "a8f1de81e70c41c3abdbc7fc50b9b9bc": {
          "model_module": "@jupyter-widgets/controls",
          "model_name": "ProgressStyleModel",
          "model_module_version": "1.5.0",
          "state": {
            "_model_module": "@jupyter-widgets/controls",
            "_model_module_version": "1.5.0",
            "_model_name": "ProgressStyleModel",
            "_view_count": null,
            "_view_module": "@jupyter-widgets/base",
            "_view_module_version": "1.2.0",
            "_view_name": "StyleView",
            "bar_color": null,
            "description_width": ""
          }
        },
        "f3d18d3ff8254aa493ed51b7f62012b4": {
          "model_module": "@jupyter-widgets/base",
          "model_name": "LayoutModel",
          "model_module_version": "1.2.0",
          "state": {
            "_model_module": "@jupyter-widgets/base",
            "_model_module_version": "1.2.0",
            "_model_name": "LayoutModel",
            "_view_count": null,
            "_view_module": "@jupyter-widgets/base",
            "_view_module_version": "1.2.0",
            "_view_name": "LayoutView",
            "align_content": null,
            "align_items": null,
            "align_self": null,
            "border": null,
            "bottom": null,
            "display": null,
            "flex": null,
            "flex_flow": null,
            "grid_area": null,
            "grid_auto_columns": null,
            "grid_auto_flow": null,
            "grid_auto_rows": null,
            "grid_column": null,
            "grid_gap": null,
            "grid_row": null,
            "grid_template_areas": null,
            "grid_template_columns": null,
            "grid_template_rows": null,
            "height": null,
            "justify_content": null,
            "justify_items": null,
            "left": null,
            "margin": null,
            "max_height": null,
            "max_width": null,
            "min_height": null,
            "min_width": null,
            "object_fit": null,
            "object_position": null,
            "order": null,
            "overflow": null,
            "overflow_x": null,
            "overflow_y": null,
            "padding": null,
            "right": null,
            "top": null,
            "visibility": null,
            "width": null
          }
        },
        "af1190b0891a4751ade113c640e07e70": {
          "model_module": "@jupyter-widgets/controls",
          "model_name": "DescriptionStyleModel",
          "model_module_version": "1.5.0",
          "state": {
            "_model_module": "@jupyter-widgets/controls",
            "_model_module_version": "1.5.0",
            "_model_name": "DescriptionStyleModel",
            "_view_count": null,
            "_view_module": "@jupyter-widgets/base",
            "_view_module_version": "1.2.0",
            "_view_name": "StyleView",
            "description_width": ""
          }
        },
        "45c3b058f37f46c8bd143f8c32ba7f39": {
          "model_module": "@jupyter-widgets/controls",
          "model_name": "HBoxModel",
          "model_module_version": "1.5.0",
          "state": {
            "_dom_classes": [],
            "_model_module": "@jupyter-widgets/controls",
            "_model_module_version": "1.5.0",
            "_model_name": "HBoxModel",
            "_view_count": null,
            "_view_module": "@jupyter-widgets/controls",
            "_view_module_version": "1.5.0",
            "_view_name": "HBoxView",
            "box_style": "",
            "children": [
              "IPY_MODEL_6f0535c92cbe4d2083e5da25305d9c76",
              "IPY_MODEL_5e2bb7c9ed1c475387871746d5fad7e3",
              "IPY_MODEL_b4bcf8df8a47465c96a64b194ff570ca"
            ],
            "layout": "IPY_MODEL_7a3f7271f7f346d581eeed89f0b7a097"
          }
        },
        "6f0535c92cbe4d2083e5da25305d9c76": {
          "model_module": "@jupyter-widgets/controls",
          "model_name": "HTMLModel",
          "model_module_version": "1.5.0",
          "state": {
            "_dom_classes": [],
            "_model_module": "@jupyter-widgets/controls",
            "_model_module_version": "1.5.0",
            "_model_name": "HTMLModel",
            "_view_count": null,
            "_view_module": "@jupyter-widgets/controls",
            "_view_module_version": "1.5.0",
            "_view_name": "HTMLView",
            "description": "",
            "description_tooltip": null,
            "layout": "IPY_MODEL_533372679df84c4cb63d6a78130d03f8",
            "placeholder": "​",
            "style": "IPY_MODEL_11ef6e18b8bb45ff86aeef31edd97844",
            "value": "Downloading (…)lve/main/config.json: 100%"
          }
        },
        "5e2bb7c9ed1c475387871746d5fad7e3": {
          "model_module": "@jupyter-widgets/controls",
          "model_name": "FloatProgressModel",
          "model_module_version": "1.5.0",
          "state": {
            "_dom_classes": [],
            "_model_module": "@jupyter-widgets/controls",
            "_model_module_version": "1.5.0",
            "_model_name": "FloatProgressModel",
            "_view_count": null,
            "_view_module": "@jupyter-widgets/controls",
            "_view_module_version": "1.5.0",
            "_view_name": "ProgressView",
            "bar_style": "success",
            "description": "",
            "description_tooltip": null,
            "layout": "IPY_MODEL_8b69362d80fe4a8bb054a2c080e76537",
            "max": 570,
            "min": 0,
            "orientation": "horizontal",
            "style": "IPY_MODEL_2adfedc2a3b349c79bb1c88a2f18cb60",
            "value": 570
          }
        },
        "b4bcf8df8a47465c96a64b194ff570ca": {
          "model_module": "@jupyter-widgets/controls",
          "model_name": "HTMLModel",
          "model_module_version": "1.5.0",
          "state": {
            "_dom_classes": [],
            "_model_module": "@jupyter-widgets/controls",
            "_model_module_version": "1.5.0",
            "_model_name": "HTMLModel",
            "_view_count": null,
            "_view_module": "@jupyter-widgets/controls",
            "_view_module_version": "1.5.0",
            "_view_name": "HTMLView",
            "description": "",
            "description_tooltip": null,
            "layout": "IPY_MODEL_09b3a3916bc448c0854477debb09f16b",
            "placeholder": "​",
            "style": "IPY_MODEL_f76d4614324548218e66932e29c3f614",
            "value": " 570/570 [00:00&lt;00:00, 41.5kB/s]"
          }
        },
        "7a3f7271f7f346d581eeed89f0b7a097": {
          "model_module": "@jupyter-widgets/base",
          "model_name": "LayoutModel",
          "model_module_version": "1.2.0",
          "state": {
            "_model_module": "@jupyter-widgets/base",
            "_model_module_version": "1.2.0",
            "_model_name": "LayoutModel",
            "_view_count": null,
            "_view_module": "@jupyter-widgets/base",
            "_view_module_version": "1.2.0",
            "_view_name": "LayoutView",
            "align_content": null,
            "align_items": null,
            "align_self": null,
            "border": null,
            "bottom": null,
            "display": null,
            "flex": null,
            "flex_flow": null,
            "grid_area": null,
            "grid_auto_columns": null,
            "grid_auto_flow": null,
            "grid_auto_rows": null,
            "grid_column": null,
            "grid_gap": null,
            "grid_row": null,
            "grid_template_areas": null,
            "grid_template_columns": null,
            "grid_template_rows": null,
            "height": null,
            "justify_content": null,
            "justify_items": null,
            "left": null,
            "margin": null,
            "max_height": null,
            "max_width": null,
            "min_height": null,
            "min_width": null,
            "object_fit": null,
            "object_position": null,
            "order": null,
            "overflow": null,
            "overflow_x": null,
            "overflow_y": null,
            "padding": null,
            "right": null,
            "top": null,
            "visibility": null,
            "width": null
          }
        },
        "533372679df84c4cb63d6a78130d03f8": {
          "model_module": "@jupyter-widgets/base",
          "model_name": "LayoutModel",
          "model_module_version": "1.2.0",
          "state": {
            "_model_module": "@jupyter-widgets/base",
            "_model_module_version": "1.2.0",
            "_model_name": "LayoutModel",
            "_view_count": null,
            "_view_module": "@jupyter-widgets/base",
            "_view_module_version": "1.2.0",
            "_view_name": "LayoutView",
            "align_content": null,
            "align_items": null,
            "align_self": null,
            "border": null,
            "bottom": null,
            "display": null,
            "flex": null,
            "flex_flow": null,
            "grid_area": null,
            "grid_auto_columns": null,
            "grid_auto_flow": null,
            "grid_auto_rows": null,
            "grid_column": null,
            "grid_gap": null,
            "grid_row": null,
            "grid_template_areas": null,
            "grid_template_columns": null,
            "grid_template_rows": null,
            "height": null,
            "justify_content": null,
            "justify_items": null,
            "left": null,
            "margin": null,
            "max_height": null,
            "max_width": null,
            "min_height": null,
            "min_width": null,
            "object_fit": null,
            "object_position": null,
            "order": null,
            "overflow": null,
            "overflow_x": null,
            "overflow_y": null,
            "padding": null,
            "right": null,
            "top": null,
            "visibility": null,
            "width": null
          }
        },
        "11ef6e18b8bb45ff86aeef31edd97844": {
          "model_module": "@jupyter-widgets/controls",
          "model_name": "DescriptionStyleModel",
          "model_module_version": "1.5.0",
          "state": {
            "_model_module": "@jupyter-widgets/controls",
            "_model_module_version": "1.5.0",
            "_model_name": "DescriptionStyleModel",
            "_view_count": null,
            "_view_module": "@jupyter-widgets/base",
            "_view_module_version": "1.2.0",
            "_view_name": "StyleView",
            "description_width": ""
          }
        },
        "8b69362d80fe4a8bb054a2c080e76537": {
          "model_module": "@jupyter-widgets/base",
          "model_name": "LayoutModel",
          "model_module_version": "1.2.0",
          "state": {
            "_model_module": "@jupyter-widgets/base",
            "_model_module_version": "1.2.0",
            "_model_name": "LayoutModel",
            "_view_count": null,
            "_view_module": "@jupyter-widgets/base",
            "_view_module_version": "1.2.0",
            "_view_name": "LayoutView",
            "align_content": null,
            "align_items": null,
            "align_self": null,
            "border": null,
            "bottom": null,
            "display": null,
            "flex": null,
            "flex_flow": null,
            "grid_area": null,
            "grid_auto_columns": null,
            "grid_auto_flow": null,
            "grid_auto_rows": null,
            "grid_column": null,
            "grid_gap": null,
            "grid_row": null,
            "grid_template_areas": null,
            "grid_template_columns": null,
            "grid_template_rows": null,
            "height": null,
            "justify_content": null,
            "justify_items": null,
            "left": null,
            "margin": null,
            "max_height": null,
            "max_width": null,
            "min_height": null,
            "min_width": null,
            "object_fit": null,
            "object_position": null,
            "order": null,
            "overflow": null,
            "overflow_x": null,
            "overflow_y": null,
            "padding": null,
            "right": null,
            "top": null,
            "visibility": null,
            "width": null
          }
        },
        "2adfedc2a3b349c79bb1c88a2f18cb60": {
          "model_module": "@jupyter-widgets/controls",
          "model_name": "ProgressStyleModel",
          "model_module_version": "1.5.0",
          "state": {
            "_model_module": "@jupyter-widgets/controls",
            "_model_module_version": "1.5.0",
            "_model_name": "ProgressStyleModel",
            "_view_count": null,
            "_view_module": "@jupyter-widgets/base",
            "_view_module_version": "1.2.0",
            "_view_name": "StyleView",
            "bar_color": null,
            "description_width": ""
          }
        },
        "09b3a3916bc448c0854477debb09f16b": {
          "model_module": "@jupyter-widgets/base",
          "model_name": "LayoutModel",
          "model_module_version": "1.2.0",
          "state": {
            "_model_module": "@jupyter-widgets/base",
            "_model_module_version": "1.2.0",
            "_model_name": "LayoutModel",
            "_view_count": null,
            "_view_module": "@jupyter-widgets/base",
            "_view_module_version": "1.2.0",
            "_view_name": "LayoutView",
            "align_content": null,
            "align_items": null,
            "align_self": null,
            "border": null,
            "bottom": null,
            "display": null,
            "flex": null,
            "flex_flow": null,
            "grid_area": null,
            "grid_auto_columns": null,
            "grid_auto_flow": null,
            "grid_auto_rows": null,
            "grid_column": null,
            "grid_gap": null,
            "grid_row": null,
            "grid_template_areas": null,
            "grid_template_columns": null,
            "grid_template_rows": null,
            "height": null,
            "justify_content": null,
            "justify_items": null,
            "left": null,
            "margin": null,
            "max_height": null,
            "max_width": null,
            "min_height": null,
            "min_width": null,
            "object_fit": null,
            "object_position": null,
            "order": null,
            "overflow": null,
            "overflow_x": null,
            "overflow_y": null,
            "padding": null,
            "right": null,
            "top": null,
            "visibility": null,
            "width": null
          }
        },
        "f76d4614324548218e66932e29c3f614": {
          "model_module": "@jupyter-widgets/controls",
          "model_name": "DescriptionStyleModel",
          "model_module_version": "1.5.0",
          "state": {
            "_model_module": "@jupyter-widgets/controls",
            "_model_module_version": "1.5.0",
            "_model_name": "DescriptionStyleModel",
            "_view_count": null,
            "_view_module": "@jupyter-widgets/base",
            "_view_module_version": "1.2.0",
            "_view_name": "StyleView",
            "description_width": ""
          }
        }
      }
    }
  },
  "cells": [
    {
      "cell_type": "markdown",
      "source": [
        "#Final Project Deep Learning \n",
        "\n",
        "Problem Statement:\n",
        "Automatic story generation (ASG) involves the ability to generate coherent and engaging stories and has many potential applications, from creative writing to chatbots and virtual assistants. In recent years, it has gained a lot of popularity and is an active research area. \n",
        "\n",
        "Dataset: For this project, we will use the WritingPrompts dataset, which was released by Facebook Research. This contains over 300,000 short stories. We will use a part of this dataset, owing to the limited computing resources available, and split the dataset into training, validation, and test sets for training and evaluating our models.\n",
        "\n"
      ],
      "metadata": {
        "id": "FxoFEr44xs35"
      }
    },
    {
      "cell_type": "markdown",
      "source": [
        "Idea:\n",
        "\n",
        "1.   We first load the WritingPrompts dataset \n",
        "2.   Preprocess the dataset\n",
        "3.   Define the model architecture\n",
        "4.   Train the Model\n",
        "5.   Test the model\n",
        "6.   Plot the graphs - accuracy and other metrics\n",
        "8.   Compare the performance blue score, perplexity\n",
        "9.   Identify the limitations of VAE\n"
      ],
      "metadata": {
        "id": "lUxGWWwjx2_t"
      }
    },
    {
      "cell_type": "code",
      "source": [
        "!pip install transformers"
      ],
      "metadata": {
        "id": "FIeA9THRC5Hh",
        "colab": {
          "base_uri": "https://localhost:8080/"
        },
        "outputId": "bfff1f03-1b37-4ddd-d89a-99e84fccab6a"
      },
      "execution_count": 1,
      "outputs": [
        {
          "output_type": "stream",
          "name": "stdout",
          "text": [
            "Looking in indexes: https://pypi.org/simple, https://us-python.pkg.dev/colab-wheels/public/simple/\n",
            "Collecting transformers\n",
            "  Downloading transformers-4.29.2-py3-none-any.whl (7.1 MB)\n",
            "\u001b[2K     \u001b[90m━━━━━━━━━━━━━━━━━━━━━━━━━━━━━━━━━━━━━━━━\u001b[0m \u001b[32m7.1/7.1 MB\u001b[0m \u001b[31m41.3 MB/s\u001b[0m eta \u001b[36m0:00:00\u001b[0m\n",
            "\u001b[?25hRequirement already satisfied: filelock in /usr/local/lib/python3.10/dist-packages (from transformers) (3.12.0)\n",
            "Collecting huggingface-hub<1.0,>=0.14.1 (from transformers)\n",
            "  Downloading huggingface_hub-0.14.1-py3-none-any.whl (224 kB)\n",
            "\u001b[2K     \u001b[90m━━━━━━━━━━━━━━━━━━━━━━━━━━━━━━━━━━━━━━\u001b[0m \u001b[32m224.5/224.5 kB\u001b[0m \u001b[31m13.4 MB/s\u001b[0m eta \u001b[36m0:00:00\u001b[0m\n",
            "\u001b[?25hRequirement already satisfied: numpy>=1.17 in /usr/local/lib/python3.10/dist-packages (from transformers) (1.22.4)\n",
            "Requirement already satisfied: packaging>=20.0 in /usr/local/lib/python3.10/dist-packages (from transformers) (23.1)\n",
            "Requirement already satisfied: pyyaml>=5.1 in /usr/local/lib/python3.10/dist-packages (from transformers) (6.0)\n",
            "Requirement already satisfied: regex!=2019.12.17 in /usr/local/lib/python3.10/dist-packages (from transformers) (2022.10.31)\n",
            "Requirement already satisfied: requests in /usr/local/lib/python3.10/dist-packages (from transformers) (2.27.1)\n",
            "Collecting tokenizers!=0.11.3,<0.14,>=0.11.1 (from transformers)\n",
            "  Downloading tokenizers-0.13.3-cp310-cp310-manylinux_2_17_x86_64.manylinux2014_x86_64.whl (7.8 MB)\n",
            "\u001b[2K     \u001b[90m━━━━━━━━━━━━━━━━━━━━━━━━━━━━━━━━━━━━━━━━\u001b[0m \u001b[32m7.8/7.8 MB\u001b[0m \u001b[31m43.3 MB/s\u001b[0m eta \u001b[36m0:00:00\u001b[0m\n",
            "\u001b[?25hRequirement already satisfied: tqdm>=4.27 in /usr/local/lib/python3.10/dist-packages (from transformers) (4.65.0)\n",
            "Requirement already satisfied: fsspec in /usr/local/lib/python3.10/dist-packages (from huggingface-hub<1.0,>=0.14.1->transformers) (2023.4.0)\n",
            "Requirement already satisfied: typing-extensions>=3.7.4.3 in /usr/local/lib/python3.10/dist-packages (from huggingface-hub<1.0,>=0.14.1->transformers) (4.5.0)\n",
            "Requirement already satisfied: urllib3<1.27,>=1.21.1 in /usr/local/lib/python3.10/dist-packages (from requests->transformers) (1.26.15)\n",
            "Requirement already satisfied: certifi>=2017.4.17 in /usr/local/lib/python3.10/dist-packages (from requests->transformers) (2022.12.7)\n",
            "Requirement already satisfied: charset-normalizer~=2.0.0 in /usr/local/lib/python3.10/dist-packages (from requests->transformers) (2.0.12)\n",
            "Requirement already satisfied: idna<4,>=2.5 in /usr/local/lib/python3.10/dist-packages (from requests->transformers) (3.4)\n",
            "Installing collected packages: tokenizers, huggingface-hub, transformers\n",
            "Successfully installed huggingface-hub-0.14.1 tokenizers-0.13.3 transformers-4.29.2\n"
          ]
        }
      ]
    },
    {
      "cell_type": "code",
      "source": [
        "# import necessary packages\n",
        "import os\n",
        "import pandas as pd\n",
        "import spacy\n",
        "import torch\n",
        "from torch import nn\n",
        "from torch.nn import functional as F\n",
        "from torch.autograd import Variable\n",
        "from torch.utils.data import Dataset, DataLoader\n",
        "from torch import optim\n",
        "import pickle\n",
        "from collections import Counter\n",
        "from sklearn.model_selection import train_test_split\n",
        "import torch.backends.cudnn as cudnn\n",
        "import torchtext\n",
        "from torchtext.utils import download_from_url\n",
        "from torchtext.data.utils import get_tokenizer\n",
        "from torchtext.vocab import build_vocab_from_iterator\n",
        "from transformers import BertTokenizer\n",
        "from torch.nn.utils.rnn import pad_sequence\n",
        "import nltk\n",
        "from nltk.translate.bleu_score import corpus_bleu, sentence_bleu"
      ],
      "metadata": {
        "id": "FNUYbPzxynaS"
      },
      "execution_count": 2,
      "outputs": []
    },
    {
      "cell_type": "code",
      "source": [
        "from google.colab import drive\n",
        "drive.mount('/content/drive', force_remount=True)"
      ],
      "metadata": {
        "id": "i0HPucOM-7vL",
        "colab": {
          "base_uri": "https://localhost:8080/"
        },
        "outputId": "541499e8-ffe0-4991-98e8-7c8725773438"
      },
      "execution_count": 3,
      "outputs": [
        {
          "output_type": "stream",
          "name": "stdout",
          "text": [
            "Mounted at /content/drive\n"
          ]
        }
      ]
    },
    {
      "cell_type": "markdown",
      "source": [
        "# Load the Dataset and Preprocess\n",
        "\n",
        "For this project, we will use the WritingPrompts dataset, which was released by Facebook Research. This contains over 300,000 short stories. We will use a part of this dataset, owing to the limited computing resources available, and split the dataset into training, validation, and test sets for training and evaluating our models.\n",
        "\n",
        "From https://github.com/facebookresearch/fairseq/tree/main/examples/stories \n",
        "\n"
      ],
      "metadata": {
        "id": "ApfwRqstyZtE"
      }
    },
    {
      "cell_type": "code",
      "source": [
        "data_dir = \"/content/drive/MyDrive/Colab Notebooks/DL Final Project/Pickles-first10k/\"\n",
        "\n",
        "# Load the tokenized data from a file\n",
        "with open(data_dir+'train_src_tokenized.pickle', 'rb') as f:\n",
        "    train_src_tokenized = pickle.load(f)\n",
        "\n",
        "with open(data_dir+'train_tgt_tokenized.pickle', 'rb') as f:\n",
        "    train_tgt_tokenized = pickle.load(f)\n",
        "\n",
        "with open(data_dir+'val_src_tokenized.pickle', 'rb') as f:\n",
        "    val_src_tokenized = pickle.load(f)\n",
        "\n",
        "with open(data_dir+'val_tgt_tokenized.pickle', 'rb') as f:\n",
        "    val_tgt_tokenized = pickle.load(f)\n",
        "\n",
        "with open(data_dir+'test_src_tokenized.pickle', 'rb') as f:\n",
        "    test_src_tokenized = pickle.load(f)\n",
        "\n",
        "with open(data_dir+'test_tgt_tokenized.pickle', 'rb') as f:\n",
        "    test_tgt_tokenized = pickle.load(f)"
      ],
      "metadata": {
        "id": "3mawc9Mnv-2P"
      },
      "execution_count": 4,
      "outputs": []
    },
    {
      "cell_type": "markdown",
      "source": [
        "Tokenize the data using BertTokenizer"
      ],
      "metadata": {
        "id": "3bEvg6T7iXvJ"
      }
    },
    {
      "cell_type": "code",
      "source": [
        "from transformers import BertTokenizer\n",
        "\n",
        "bert_tokenizer = BertTokenizer.from_pretrained('bert-base-uncased')\n",
        "\n",
        "train_src_tokenized_bert = [bert_tokenizer.encode(seq, add_special_tokens=True, max_length=512, truncation=True) for seq in train_src_tokenized]\n",
        "train_tgt_tokenized_bert = [bert_tokenizer.encode(seq, add_special_tokens=True, max_length=512, truncation=True) for seq in train_tgt_tokenized]\n",
        "val_src_tokenized_bert = [bert_tokenizer.encode(seq, add_special_tokens=True, max_length=512, truncation=True) for seq in val_src_tokenized]\n",
        "val_tgt_tokenized_bert = [bert_tokenizer.encode(seq, add_special_tokens=True, max_length=512, truncation=True) for seq in val_tgt_tokenized]\n",
        "test_src_tokenized_bert = [bert_tokenizer.encode(seq, add_special_tokens=True, max_length=512, truncation=True) for seq in test_src_tokenized]\n",
        "test_tgt_tokenized_bert = [bert_tokenizer.encode(seq, add_special_tokens=True, max_length=512, truncation=True) for seq in test_tgt_tokenized]\n"
      ],
      "metadata": {
        "id": "8AL-khGGhXUT",
        "colab": {
          "base_uri": "https://localhost:8080/",
          "height": 113,
          "referenced_widgets": [
            "c2d9b675202a45b0bf7a749f4566870a",
            "2d5e9446a19d4e1592f2ec3f6c88eaac",
            "7bb5206abe1e4fd39f798ef7c8c3fbc8",
            "2d41a1d5dbce4a4fbf0394012081f0a4",
            "075bf1d97206453da7a699d6c041ac5d",
            "05743d10fd4942bb8be6cd5f36eb9187",
            "018e78bb96e14244bf9f0c7390c523e4",
            "03391a5ddf14443b832406ef732faf96",
            "c5637a009c5c4bee842dc522dd8d968c",
            "8d1b60c1df304140bba94f51f9a3eaf1",
            "559f63bd78b34e2d99e58381bc09fe57",
            "d7b016622e1b4c44b307192b57ff80e2",
            "02dc69af05c844cfa2f4a902d558a845",
            "e3dc6e57465e4d9abe6f37a32265af7c",
            "b75568d193124fa2865a42da3885d52d",
            "aa044d90fb7a43cb8f77595cf8dedd7c",
            "e923ff966e954d578bad21dafe19cbcb",
            "c3d4a1b6cc8c4e3bab36f86f199c5477",
            "12a8143c8e8f4ef09879494e232468de",
            "a8f1de81e70c41c3abdbc7fc50b9b9bc",
            "f3d18d3ff8254aa493ed51b7f62012b4",
            "af1190b0891a4751ade113c640e07e70",
            "45c3b058f37f46c8bd143f8c32ba7f39",
            "6f0535c92cbe4d2083e5da25305d9c76",
            "5e2bb7c9ed1c475387871746d5fad7e3",
            "b4bcf8df8a47465c96a64b194ff570ca",
            "7a3f7271f7f346d581eeed89f0b7a097",
            "533372679df84c4cb63d6a78130d03f8",
            "11ef6e18b8bb45ff86aeef31edd97844",
            "8b69362d80fe4a8bb054a2c080e76537",
            "2adfedc2a3b349c79bb1c88a2f18cb60",
            "09b3a3916bc448c0854477debb09f16b",
            "f76d4614324548218e66932e29c3f614"
          ]
        },
        "outputId": "bf5e757f-400d-4642-9efa-4f212b7db610"
      },
      "execution_count": 5,
      "outputs": [
        {
          "output_type": "display_data",
          "data": {
            "text/plain": [
              "Downloading (…)solve/main/vocab.txt:   0%|          | 0.00/232k [00:00<?, ?B/s]"
            ],
            "application/vnd.jupyter.widget-view+json": {
              "version_major": 2,
              "version_minor": 0,
              "model_id": "c2d9b675202a45b0bf7a749f4566870a"
            }
          },
          "metadata": {}
        },
        {
          "output_type": "display_data",
          "data": {
            "text/plain": [
              "Downloading (…)okenizer_config.json:   0%|          | 0.00/28.0 [00:00<?, ?B/s]"
            ],
            "application/vnd.jupyter.widget-view+json": {
              "version_major": 2,
              "version_minor": 0,
              "model_id": "d7b016622e1b4c44b307192b57ff80e2"
            }
          },
          "metadata": {}
        },
        {
          "output_type": "display_data",
          "data": {
            "text/plain": [
              "Downloading (…)lve/main/config.json:   0%|          | 0.00/570 [00:00<?, ?B/s]"
            ],
            "application/vnd.jupyter.widget-view+json": {
              "version_major": 2,
              "version_minor": 0,
              "model_id": "45c3b058f37f46c8bd143f8c32ba7f39"
            }
          },
          "metadata": {}
        }
      ]
    },
    {
      "cell_type": "markdown",
      "source": [
        "Convert to tensors and pad them"
      ],
      "metadata": {
        "id": "mJTZo7HsjDYC"
      }
    },
    {
      "cell_type": "code",
      "source": [
        "train_src_tensor = [torch.tensor(seq) for seq in train_src_tokenized_bert]\n",
        "train_tgt_tensor = [torch.tensor(seq) for seq in train_tgt_tokenized_bert]\n",
        "val_src_tensor = [torch.tensor(seq) for seq in val_src_tokenized_bert]\n",
        "val_tgt_tensor = [torch.tensor(seq) for seq in val_tgt_tokenized_bert]\n",
        "test_src_tensor = [torch.tensor(seq) for seq in test_src_tokenized_bert]\n",
        "test_tgt_tensor = [torch.tensor(seq) for seq in test_tgt_tokenized_bert]\n",
        "\n",
        "train_src_padded = pad_sequence(train_src_tensor, batch_first=True)\n",
        "train_tgt_padded = pad_sequence(train_tgt_tensor, batch_first=True)\n",
        "val_src_padded = pad_sequence(val_src_tensor, batch_first=True)\n",
        "val_tgt_padded = pad_sequence(val_tgt_tensor, batch_first=True)\n",
        "test_src_padded = pad_sequence(test_src_tensor, batch_first=True)\n",
        "test_tgt_padded = pad_sequence(test_tgt_tensor, batch_first=True)\n",
        "\n",
        "\n",
        "class TranslationDataset(Dataset):\n",
        "    def __init__(self, src_tensor, tgt_tensor):\n",
        "        self.src_tensor = src_tensor\n",
        "        self.tgt_tensor = tgt_tensor\n",
        "\n",
        "    def __len__(self):\n",
        "        return len(self.src_tensor)\n",
        "\n",
        "    def __getitem__(self, idx):\n",
        "        return self.src_tensor[idx], self.tgt_tensor[idx]\n",
        "\n",
        "train_dataset = TranslationDataset(train_src_padded, train_tgt_padded)\n",
        "val_dataset = TranslationDataset(val_src_padded, val_tgt_padded)\n",
        "test_dataset = TranslationDataset(test_src_padded, test_tgt_padded)\n",
        "\n",
        "batch_size = 16\n",
        "\n",
        "train_dataloader = DataLoader(train_dataset, batch_size=batch_size, shuffle=True)\n",
        "val_dataloader = DataLoader(val_dataset, batch_size=batch_size)\n",
        "test_dataloader = DataLoader(test_dataset, batch_size=batch_size)\n"
      ],
      "metadata": {
        "id": "Vq-iCFqGjKec"
      },
      "execution_count": 6,
      "outputs": []
    },
    {
      "cell_type": "code",
      "source": [
        "print(f\"Tokenized length train => Source: {len(train_src_tokenized)}, Target: {len(train_tgt_tokenized)}\")"
      ],
      "metadata": {
        "colab": {
          "base_uri": "https://localhost:8080/"
        },
        "id": "bf9PDj9o9AxD",
        "outputId": "9dbca8a7-a199-46cf-9283-1fcae8b1b90e"
      },
      "execution_count": 7,
      "outputs": [
        {
          "output_type": "stream",
          "name": "stdout",
          "text": [
            "Tokenized length train => Source: 10001, Target: 10001\n"
          ]
        }
      ]
    },
    {
      "cell_type": "markdown",
      "source": [
        "# Define the model\n",
        "\n",
        "Create an encoder and decoder layer\n",
        "\n",
        "\n"
      ],
      "metadata": {
        "id": "SFqUcgE7xm5I"
      }
    },
    {
      "cell_type": "code",
      "source": [
        "class VAE(nn.Module):\n",
        "    def __init__(self, vocab_size_src, vocab_size_tgt, z_dim, rnn_hid_dim, num_layers, dropout=0.5):\n",
        "        super().__init__()\n",
        "        self.vocab_size_src = vocab_size_src\n",
        "        self.vocab_size_tgt = vocab_size_tgt\n",
        "        self.z_dim = z_dim\n",
        "        self.rnn_hid_dim = rnn_hid_dim\n",
        "        self.num_layers = num_layers\n",
        "        \n",
        "        self.src_embedding = nn.Embedding(vocab_size_src, rnn_hid_dim)\n",
        "        self.tgt_embedding = nn.Embedding(vocab_size_tgt, rnn_hid_dim)\n",
        "        \n",
        "        self.encoder_rnn = nn.LSTM(rnn_hid_dim, rnn_hid_dim, num_layers, batch_first=True, dropout=dropout)\n",
        "        self.decoder_rnn = nn.LSTM(rnn_hid_dim + z_dim, rnn_hid_dim, num_layers, batch_first=True, dropout=dropout)\n",
        "        \n",
        "        self.mu_linear = nn.Linear(rnn_hid_dim, z_dim)\n",
        "        self.logvar_linear = nn.Linear(rnn_hid_dim, z_dim)\n",
        "        \n",
        "        self.decoder_linear = nn.Linear(rnn_hid_dim, vocab_size_tgt)\n",
        "        \n",
        "    def encode(self, src_input):\n",
        "        batch_size = src_input.size(0)\n",
        "        src_embedded = self.src_embedding(src_input)\n",
        "        _, (last_hidden, _) = self.encoder_rnn(src_embedded)\n",
        "        mu = self.mu_linear(last_hidden[-1])\n",
        "        logvar = self.logvar_linear(last_hidden[-1])\n",
        "        z = self.reparameterize(mu, logvar, batch_size)\n",
        "        return mu, logvar, z\n",
        "    \n",
        "    def decode(self, tgt_input, z):\n",
        "        batch_size, tgt_len = tgt_input.size()\n",
        "        tgt_embedded = self.tgt_embedding(tgt_input)\n",
        "        z_expanded = z.unsqueeze(1).expand(batch_size, tgt_len, self.z_dim)\n",
        "        decoder_input = torch.cat((tgt_embedded, z_expanded), dim=2)\n",
        "        decoder_output, _ = self.decoder_rnn(decoder_input)\n",
        "        decoder_logits = self.decoder_linear(decoder_output)\n",
        "        return decoder_logits\n",
        "\n",
        "        \n",
        "    def reparameterize(self, mu, logvar, batch_size):\n",
        "        std = torch.exp(0.5 * logvar)\n",
        "        eps = torch.randn(batch_size, self.z_dim, device=mu.device)\n",
        "        z = eps * std + mu\n",
        "        return z\n",
        "    \n",
        "    def forward(self, src_input, tgt_input):\n",
        "        mu, logvar, z = self.encode(src_input)\n",
        "        decoder_logits = self.decode(tgt_input, z)\n",
        "        return decoder_logits, mu, logvar\n"
      ],
      "metadata": {
        "id": "mxQq35fyBhJ3"
      },
      "execution_count": 13,
      "outputs": []
    },
    {
      "cell_type": "markdown",
      "source": [
        "# Define the Hyperparameters"
      ],
      "metadata": {
        "id": "f8BiXVNozyIH"
      }
    },
    {
      "cell_type": "code",
      "source": [
        "src_vocab = Counter(token for seq in train_src_tokenized for token in seq)\n",
        "vocab_size_src = len(src_vocab)\n",
        "\n",
        "tgt_vocab = Counter(token for seq in train_tgt_tokenized for token in seq)\n",
        "vocab_size_tgt = len(tgt_vocab)\n",
        "\n",
        "print(f\"Vocab size => Source: {vocab_size_src}, Target: {vocab_size_tgt}\")\n",
        "z_dim = 64\n",
        "rnn_hid_dim = 32\n",
        "num_layers = 2\n",
        "dropout = 0.5\n",
        "lr = 0.01\n",
        "\n",
        "model = VAE(vocab_size_tgt, vocab_size_tgt, z_dim, rnn_hid_dim, num_layers, dropout)\n",
        "optimizer = optim.Adam(model.parameters(), lr=lr)\n",
        "criterion = nn.CrossEntropyLoss(ignore_index=bert_tokenizer.pad_token_id)\n",
        "\n",
        "\n"
      ],
      "metadata": {
        "id": "T7v5KcnFBhDJ",
        "colab": {
          "base_uri": "https://localhost:8080/"
        },
        "outputId": "657bf5b0-6960-43c1-a35b-f08e1f9ebdf1"
      },
      "execution_count": 14,
      "outputs": [
        {
          "output_type": "stream",
          "name": "stdout",
          "text": [
            "Vocab size => Source: 13774, Target: 71443\n"
          ]
        }
      ]
    },
    {
      "cell_type": "markdown",
      "source": [
        "# Train the Model"
      ],
      "metadata": {
        "id": "LK4zKzAtzu1v"
      }
    },
    {
      "cell_type": "code",
      "source": [
        "def bleu_score(model, dataloader, device):\n",
        "    model.eval()\n",
        "    references = []\n",
        "    hypotheses = []\n",
        "\n",
        "    with torch.no_grad():\n",
        "        for src_batch, tgt_batch in dataloader:\n",
        "            src_batch = torch.tensor(src_batch).long().to(device)\n",
        "            tgt_batch = torch.tensor(tgt_batch).long().to(device)\n",
        "\n",
        "    \n",
        "            output, mu, logvar = model(src_batch, tgt_batch)\n",
        "            output = output.argmax(2)\n",
        "            for ref, hypo in zip(tgt_batch, output):\n",
        "                references.append([ref.cpu().tolist()])\n",
        "                hypotheses.append(hypo.cpu().tolist())\n",
        "\n",
        "    return corpus_bleu(references, hypotheses)\n"
      ],
      "metadata": {
        "id": "x9bfxlW7U0Ta"
      },
      "execution_count": 15,
      "outputs": []
    },
    {
      "cell_type": "code",
      "source": [
        "\n",
        "def calculate_scores(model, dataloader, device):\n",
        "    model.eval()\n",
        "    references = []\n",
        "    hypotheses = []\n",
        "    references_decoded = []\n",
        "\n",
        "    with torch.no_grad():\n",
        "        for src_batch, tgt_batch in dataloader:\n",
        "            src_batch = torch.tensor(src_batch).long().to(device)\n",
        "            tgt_batch = torch.tensor(tgt_batch).long().to(device)\n",
        "\n",
        "            output, mu, logvar = model(src_batch, tgt_batch)\n",
        "            output = output.argmax(2)\n",
        "\n",
        "            \n",
        "            for ref, hypo in zip(tgt_batch, output):\n",
        "                references.append([ref.cpu().tolist()])\n",
        "                hypotheses.append(hypo.cpu().tolist())\n",
        "\n",
        "    bleu_score = corpus_bleu(references, hypotheses)\n",
        "\n",
        "    return bleu_score\n"
      ],
      "metadata": {
        "id": "pF5x5-nTSgWH"
      },
      "execution_count": 16,
      "outputs": []
    },
    {
      "cell_type": "code",
      "source": [
        "import shutil\n",
        "num_epochs = 30\n",
        "device = torch.device('cuda' if torch.cuda.is_available() else 'cpu')\n",
        "\n",
        "if device == 'cuda':\n",
        "    model = nn.DataParallel(model)\n",
        "    cudnn.benchmark = True\n",
        "\n",
        "model = model.to(device)\n",
        "criterion = criterion.to(device)\n",
        "\n",
        "train_loss_list = []\n",
        "train_bleu_list = []\n",
        "train_acc_list = []\n",
        "val_loss_list = []\n",
        "val_bleu_list = []\n",
        "train_perplexity = []\n",
        "val_perplexity = []\n",
        "\n",
        "\n",
        "\n",
        "for epoch in range(num_epochs):\n",
        "    train_loss = 0\n",
        "    train_acc = 0\n",
        "    model.train()\n",
        "\n",
        "    for src_batch, tgt_batch in train_dataloader:\n",
        "\n",
        "        src_batch = torch.tensor(src_batch).long().to(device)\n",
        "        tgt_batch = torch.tensor(tgt_batch).long().to(device)\n",
        "        optimizer.zero_grad()\n",
        "        output, mu, logvar = model(src_batch, tgt_batch)\n",
        "        output = output.view(-1, vocab_size_tgt)\n",
        "        tgt_batch = tgt_batch.view(-1)\n",
        "        loss = criterion(output, tgt_batch)\n",
        "\n",
        "        loss.backward()\n",
        "        optimizer.step()\n",
        "\n",
        "        train_loss += loss.item()\n",
        "    train_bleu = calculate_scores(model, train_dataloader, device)\n",
        "\n",
        "    train_loss /= len(train_dataloader)\n",
        "    train_acc /= len(train_dataloader.dataset)\n",
        "\n",
        "    train_loss_list.append(train_loss)\n",
        "    \n",
        "    train_perplexity.append(torch.exp(torch.tensor(train_loss)))\n",
        "    train_bleu_list.append(train_bleu)\n",
        "    train_acc_list.append(train_acc)\n",
        "\n",
        "    val_loss = 0\n",
        "    val_acc = 0\n",
        "    model.eval()\n",
        "\n",
        "    with torch.no_grad():\n",
        "        for src_batch, tgt_batch in val_dataloader:\n",
        "\n",
        "            src_batch = torch.tensor(src_batch).to(device)\n",
        "            tgt_batch = torch.tensor(tgt_batch).to(device)\n",
        "\n",
        "            output, mu, logvar = model(src_batch, tgt_batch)\n",
        "            output = output.view(-1, vocab_size_tgt)\n",
        "            tgt_batch = tgt_batch.view(-1)\n",
        "            loss = criterion(output, tgt_batch)\n",
        "\n",
        "\n",
        "            val_loss += loss.item()\n",
        "        val_loss /= len(val_dataloader)\n",
        "        val_bleu = calculate_scores(model, val_dataloader, device)\n",
        "\n",
        "        val_loss_list.append(val_loss)\n",
        "        val_perplexity.append(torch.exp(torch.tensor(val_loss)))\n",
        "        val_bleu_list.append(val_bleu)\n",
        "\n",
        "    print(f\"Epoch {epoch+1}: train_loss={train_loss:.4f} train_bleu={train_bleu:.4f} \\n \\\n",
        "            Epoch {epoch+1}: val_loss={val_loss:.4f} val_bleu={val_bleu:.4f}\")\n",
        "    model_path = \"/content/vae_dl_project.pt\"\n",
        "    torch.save(model.state_dict(), model_path)\n",
        "    drive_path = \"/content/drive/MyDrive/vae_dl_project.pt\"\n",
        "    shutil.copyfile(model_path,drive_path)\n",
        "\n",
        "\n"
      ],
      "metadata": {
        "id": "sDeWsmwmzuGz",
        "colab": {
          "base_uri": "https://localhost:8080/"
        },
        "outputId": "64dfb82a-9f4e-4ebf-8ac2-b3289eb5050f"
      },
      "execution_count": 17,
      "outputs": [
        {
          "output_type": "stream",
          "name": "stderr",
          "text": [
            "<ipython-input-17-d982b7ef0be2>:29: UserWarning: To copy construct from a tensor, it is recommended to use sourceTensor.clone().detach() or sourceTensor.clone().detach().requires_grad_(True), rather than torch.tensor(sourceTensor).\n",
            "  src_batch = torch.tensor(src_batch).long().to(device)\n",
            "<ipython-input-17-d982b7ef0be2>:30: UserWarning: To copy construct from a tensor, it is recommended to use sourceTensor.clone().detach() or sourceTensor.clone().detach().requires_grad_(True), rather than torch.tensor(sourceTensor).\n",
            "  tgt_batch = torch.tensor(tgt_batch).long().to(device)\n",
            "<ipython-input-16-7ad1d4157a1b>:9: UserWarning: To copy construct from a tensor, it is recommended to use sourceTensor.clone().detach() or sourceTensor.clone().detach().requires_grad_(True), rather than torch.tensor(sourceTensor).\n",
            "  src_batch = torch.tensor(src_batch).long().to(device)\n",
            "<ipython-input-16-7ad1d4157a1b>:10: UserWarning: To copy construct from a tensor, it is recommended to use sourceTensor.clone().detach() or sourceTensor.clone().detach().requires_grad_(True), rather than torch.tensor(sourceTensor).\n",
            "  tgt_batch = torch.tensor(tgt_batch).long().to(device)\n",
            "<ipython-input-17-d982b7ef0be2>:59: UserWarning: To copy construct from a tensor, it is recommended to use sourceTensor.clone().detach() or sourceTensor.clone().detach().requires_grad_(True), rather than torch.tensor(sourceTensor).\n",
            "  src_batch = torch.tensor(src_batch).to(device)\n",
            "<ipython-input-17-d982b7ef0be2>:60: UserWarning: To copy construct from a tensor, it is recommended to use sourceTensor.clone().detach() or sourceTensor.clone().detach().requires_grad_(True), rather than torch.tensor(sourceTensor).\n",
            "  tgt_batch = torch.tensor(tgt_batch).to(device)\n"
          ]
        },
        {
          "output_type": "stream",
          "name": "stdout",
          "text": [
            "Epoch 1: train_loss=6.2488 train_bleu=0.0021 \n",
            "             Epoch 1: val_loss=6.1529 val_bleu=0.0019\n",
            "Epoch 2: train_loss=6.1569 train_bleu=0.0021 \n",
            "             Epoch 2: val_loss=6.1522 val_bleu=0.0019\n",
            "Epoch 3: train_loss=6.1364 train_bleu=0.0021 \n",
            "             Epoch 3: val_loss=6.1281 val_bleu=0.0019\n",
            "Epoch 4: train_loss=6.1191 train_bleu=0.0033 \n",
            "             Epoch 4: val_loss=6.1131 val_bleu=0.0032\n",
            "Epoch 5: train_loss=6.1097 train_bleu=0.0033 \n",
            "             Epoch 5: val_loss=6.1085 val_bleu=0.0032\n",
            "Epoch 6: train_loss=6.1057 train_bleu=0.0033 \n",
            "             Epoch 6: val_loss=6.1031 val_bleu=0.0032\n",
            "Epoch 7: train_loss=6.1027 train_bleu=0.0033 \n",
            "             Epoch 7: val_loss=6.0988 val_bleu=0.0032\n",
            "Epoch 8: train_loss=6.0985 train_bleu=0.0033 \n",
            "             Epoch 8: val_loss=6.0967 val_bleu=0.0032\n",
            "Epoch 9: train_loss=6.0961 train_bleu=0.0033 \n",
            "             Epoch 9: val_loss=6.0960 val_bleu=0.0032\n",
            "Epoch 10: train_loss=6.0939 train_bleu=0.0033 \n",
            "             Epoch 10: val_loss=6.0976 val_bleu=0.0032\n",
            "Epoch 11: train_loss=6.0921 train_bleu=0.0023 \n",
            "             Epoch 11: val_loss=6.0966 val_bleu=0.0021\n",
            "Epoch 12: train_loss=6.0915 train_bleu=0.0023 \n",
            "             Epoch 12: val_loss=6.0946 val_bleu=0.0021\n",
            "Epoch 13: train_loss=6.0910 train_bleu=0.0033 \n",
            "             Epoch 13: val_loss=6.0955 val_bleu=0.0032\n",
            "Epoch 14: train_loss=6.0901 train_bleu=0.0033 \n",
            "             Epoch 14: val_loss=6.0964 val_bleu=0.0032\n",
            "Epoch 15: train_loss=6.0886 train_bleu=0.0037 \n",
            "             Epoch 15: val_loss=6.0947 val_bleu=0.0035\n",
            "Epoch 16: train_loss=6.0872 train_bleu=0.0033 \n",
            "             Epoch 16: val_loss=6.0946 val_bleu=0.0032\n",
            "Epoch 17: train_loss=6.0879 train_bleu=0.0033 \n",
            "             Epoch 17: val_loss=6.0956 val_bleu=0.0032\n",
            "Epoch 18: train_loss=6.0882 train_bleu=0.0033 \n",
            "             Epoch 18: val_loss=6.0954 val_bleu=0.0032\n",
            "Epoch 19: train_loss=6.0853 train_bleu=0.0033 \n",
            "             Epoch 19: val_loss=6.0965 val_bleu=0.0032\n",
            "Epoch 20: train_loss=6.0840 train_bleu=0.0033 \n",
            "             Epoch 20: val_loss=6.0970 val_bleu=0.0032\n",
            "Epoch 21: train_loss=6.0843 train_bleu=0.0039 \n",
            "             Epoch 21: val_loss=6.0986 val_bleu=0.0038\n",
            "Epoch 22: train_loss=6.0877 train_bleu=0.0033 \n",
            "             Epoch 22: val_loss=6.0976 val_bleu=0.0032\n",
            "Epoch 23: train_loss=6.0843 train_bleu=0.0033 \n",
            "             Epoch 23: val_loss=6.0975 val_bleu=0.0032\n",
            "Epoch 24: train_loss=6.0837 train_bleu=0.0033 \n",
            "             Epoch 24: val_loss=6.0976 val_bleu=0.0032\n",
            "Epoch 25: train_loss=6.0851 train_bleu=0.0033 \n",
            "             Epoch 25: val_loss=6.0985 val_bleu=0.0032\n",
            "Epoch 26: train_loss=6.0828 train_bleu=0.0033 \n",
            "             Epoch 26: val_loss=6.0992 val_bleu=0.0032\n",
            "Epoch 27: train_loss=6.0839 train_bleu=0.0033 \n",
            "             Epoch 27: val_loss=6.1027 val_bleu=0.0032\n",
            "Epoch 28: train_loss=6.0826 train_bleu=0.0027 \n",
            "             Epoch 28: val_loss=6.0997 val_bleu=0.0026\n",
            "Epoch 29: train_loss=6.0789 train_bleu=0.0033 \n",
            "             Epoch 29: val_loss=6.0994 val_bleu=0.0032\n",
            "Epoch 30: train_loss=6.0799 train_bleu=0.0023 \n",
            "             Epoch 30: val_loss=6.1010 val_bleu=0.0021\n"
          ]
        }
      ]
    },
    {
      "cell_type": "code",
      "source": [
        "\n",
        "import matplotlib.pyplot as plt\n",
        "epochs = range(1, num_epochs+1)\n",
        "\n",
        "# Plotting train loss\n",
        "plt.figure(figsize=(10, 5))\n",
        "plt.plot(epochs, train_loss_list, label='Train Loss')\n",
        "plt.plot(epochs, val_loss_list, label='Validation Loss')\n",
        "plt.xlabel('Epochs')\n",
        "plt.ylabel('Loss')\n",
        "plt.title('Train and Validation Loss')\n",
        "plt.legend()\n",
        "plt.show()\n",
        "\n",
        "\n",
        "# Plotting train perplexity\n",
        "plt.figure(figsize=(10, 5))\n",
        "plt.plot(epochs, train_perplexity, label='Train Perplexity')\n",
        "plt.plot(epochs, val_perplexity, label='Validation Perplexity')\n",
        "plt.xlabel('Epochs')\n",
        "plt.ylabel('Perplexity')\n",
        "plt.title('Train and Validation Perplexity')\n",
        "plt.legend()\n",
        "plt.show()"
      ],
      "metadata": {
        "id": "KwBEfXHDIZZT",
        "colab": {
          "base_uri": "https://localhost:8080/",
          "height": 957
        },
        "outputId": "30ea69e6-c882-413b-f4ec-a4810d2b2b5e"
      },
      "execution_count": 18,
      "outputs": [
        {
          "output_type": "display_data",
          "data": {
            "text/plain": [
              "<Figure size 1000x500 with 1 Axes>"
            ],
            "image/png": "[encoded data removed]"
          },
          "metadata": {}
        },
        {
          "output_type": "display_data",
          "data": {
            "text/plain": [
              "<Figure size 1000x500 with 1 Axes>"
            ],
            "image/png": "[encoded data removed]"
          },
          "metadata": {}
        }
      ]
    },
    {
      "cell_type": "code",
      "source": [
        "test_bleuscore = bleu_score(model, test_dataloader, device)\n",
        "print(test_bleuscore)"
      ],
      "metadata": {
        "colab": {
          "base_uri": "https://localhost:8080/"
        },
        "id": "bGOCoMe59LQb",
        "outputId": "ed6b5956-a906-4663-b593-92e085c6ea18"
      },
      "execution_count": 19,
      "outputs": [
        {
          "output_type": "stream",
          "name": "stderr",
          "text": [
            "<ipython-input-15-3b9c78d3e074>:8: UserWarning: To copy construct from a tensor, it is recommended to use sourceTensor.clone().detach() or sourceTensor.clone().detach().requires_grad_(True), rather than torch.tensor(sourceTensor).\n",
            "  src_batch = torch.tensor(src_batch).long().to(device)\n",
            "<ipython-input-15-3b9c78d3e074>:9: UserWarning: To copy construct from a tensor, it is recommended to use sourceTensor.clone().detach() or sourceTensor.clone().detach().requires_grad_(True), rather than torch.tensor(sourceTensor).\n",
            "  tgt_batch = torch.tensor(tgt_batch).long().to(device)\n"
          ]
        },
        {
          "output_type": "stream",
          "name": "stdout",
          "text": [
            "0.0019648955627610066\n"
          ]
        }
      ]
    },
    {
      "cell_type": "code",
      "source": [
        "print(test_bleuscore)"
      ],
      "metadata": {
        "colab": {
          "base_uri": "https://localhost:8080/"
        },
        "id": "HQaeIEd7-r9x",
        "outputId": "e6e8cb68-99b8-48de-af9e-58d79bd9ae1f"
      },
      "execution_count": 20,
      "outputs": [
        {
          "output_type": "stream",
          "name": "stdout",
          "text": [
            "0.0019648955627610066\n"
          ]
        }
      ]
    },
    {
      "cell_type": "code",
      "source": [
        "def tokenize_prompt(prompt, src_tokenizer, device):\n",
        "    tokens = src_tokenizer.encode(prompt)\n",
        "    token_tensor = torch.tensor(tokens).long().unsqueeze(0).to(device)  # Add batch dimension\n",
        "    return token_tensor"
      ],
      "metadata": {
        "id": "v5ewBkG0tB_N"
      },
      "execution_count": 21,
      "outputs": []
    },
    {
      "cell_type": "code",
      "source": [
        "def tokens_to_text(tokens, tgt_tokenizer):\n",
        "    return tgt_tokenizer.decode(tokens)"
      ],
      "metadata": {
        "id": "amBi9qEANZn3"
      },
      "execution_count": 22,
      "outputs": []
    },
    {
      "cell_type": "code",
      "source": [
        "def generate_text(model, prompt, device, max_length=100):\n",
        "    src_input = bert_tokenizer.encode(prompt, add_special_tokens=True, max_length=max_length, truncation=True)\n",
        "    src_input = torch.tensor(src_input).to(device).unsqueeze(0)\n",
        "    desired_length = max_length\n",
        "\n",
        "    generated_sequence = torch.zeros(1, max_length).long().to(device) \n",
        "\n",
        "    for i in range(max_length):\n",
        "        output, _, _ = model(src_input, generated_sequence)\n",
        "        next_token = output[:, i].argmax(1)\n",
        "        generated_sequence[:, i] = next_token\n",
        "\n",
        "    generated_tokens = generated_sequence.squeeze(0).tolist() \n",
        "    generated_text = bert_tokenizer.decode(generated_tokens, skip_special_tokens=True)\n",
        "    \n",
        "\n",
        "    return generated_text\n"
      ],
      "metadata": {
        "id": "ZSsql4PBNciT"
      },
      "execution_count": 23,
      "outputs": []
    },
    {
      "cell_type": "code",
      "source": [
        "# prompt = \"load the model\"\n",
        "prompt = \"It has been a long day\"\n",
        "print(\"Prompt: \", prompt)\n",
        "generated_text = generate_text(model, prompt, device, 10)\n",
        "print(\"Generated text: \", generated_text)\n"
      ],
      "metadata": {
        "id": "aLChxCppNiIW",
        "colab": {
          "base_uri": "https://localhost:8080/"
        },
        "outputId": "4b217ce1-eeb5-45dc-b222-3e5bdafb7fd5"
      },
      "execution_count": 33,
      "outputs": [
        {
          "output_type": "stream",
          "name": "stdout",
          "text": [
            "Prompt:  It has been a long day\n",
            "Generated text:  power high doing high high\n"
          ]
        }
      ]
    },
    {
      "cell_type": "markdown",
      "source": [
        "# Conclusion\n",
        "\n",
        "The generated text by this model does not make any sense, it has a very high perplexity score and there is no coherency in the generated text. We have to make more modifications to this."
      ],
      "metadata": {
        "id": "hsLhlCymPCM6"
      }
    }
  ]
}