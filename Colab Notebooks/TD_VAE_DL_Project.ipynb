{
  "nbformat": 4,
  "nbformat_minor": 0,
  "metadata": {
    "colab": {
      "provenance": [],
      "gpuType": "T4"
    },
    "kernelspec": {
      "name": "python3",
      "display_name": "Python 3"
    },
    "language_info": {
      "name": "python"
    },
    "gpuClass": "standard",
    "accelerator": "GPU",
    "widgets": {
      "application/vnd.jupyter.widget-state+json": {
        "fda2852028f3458f9d3954bfd3e3fc8f": {
          "model_module": "@jupyter-widgets/controls",
          "model_name": "HBoxModel",
          "model_module_version": "1.5.0",
          "state": {
            "_dom_classes": [],
            "_model_module": "@jupyter-widgets/controls",
            "_model_module_version": "1.5.0",
            "_model_name": "HBoxModel",
            "_view_count": null,
            "_view_module": "@jupyter-widgets/controls",
            "_view_module_version": "1.5.0",
            "_view_name": "HBoxView",
            "box_style": "",
            "children": [
              "IPY_MODEL_48ec2472d8414e50ba759790722bb378",
              "IPY_MODEL_b5df4869f63449faa3c8bb8dbead278e",
              "IPY_MODEL_a3db09b721a14cba8dc8549b39465f38"
            ],
            "layout": "IPY_MODEL_f53946b440e14010ab9b20aabcf2bf7e"
          }
        },
        "48ec2472d8414e50ba759790722bb378": {
          "model_module": "@jupyter-widgets/controls",
          "model_name": "HTMLModel",
          "model_module_version": "1.5.0",
          "state": {
            "_dom_classes": [],
            "_model_module": "@jupyter-widgets/controls",
            "_model_module_version": "1.5.0",
            "_model_name": "HTMLModel",
            "_view_count": null,
            "_view_module": "@jupyter-widgets/controls",
            "_view_module_version": "1.5.0",
            "_view_name": "HTMLView",
            "description": "",
            "description_tooltip": null,
            "layout": "IPY_MODEL_11e30885bab8448d97b974c7b27b1085",
            "placeholder": "​",
            "style": "IPY_MODEL_03a9caf6c1914435a9371f19c7e11013",
            "value": "Downloading (…)solve/main/vocab.txt: 100%"
          }
        },
        "b5df4869f63449faa3c8bb8dbead278e": {
          "model_module": "@jupyter-widgets/controls",
          "model_name": "FloatProgressModel",
          "model_module_version": "1.5.0",
          "state": {
            "_dom_classes": [],
            "_model_module": "@jupyter-widgets/controls",
            "_model_module_version": "1.5.0",
            "_model_name": "FloatProgressModel",
            "_view_count": null,
            "_view_module": "@jupyter-widgets/controls",
            "_view_module_version": "1.5.0",
            "_view_name": "ProgressView",
            "bar_style": "success",
            "description": "",
            "description_tooltip": null,
            "layout": "IPY_MODEL_a191b88978f2487c9a5dff6b1a9e9088",
            "max": 231508,
            "min": 0,
            "orientation": "horizontal",
            "style": "IPY_MODEL_6a5e9fe9155c43d29f76d886fc10fa4c",
            "value": 231508
          }
        },
        "a3db09b721a14cba8dc8549b39465f38": {
          "model_module": "@jupyter-widgets/controls",
          "model_name": "HTMLModel",
          "model_module_version": "1.5.0",
          "state": {
            "_dom_classes": [],
            "_model_module": "@jupyter-widgets/controls",
            "_model_module_version": "1.5.0",
            "_model_name": "HTMLModel",
            "_view_count": null,
            "_view_module": "@jupyter-widgets/controls",
            "_view_module_version": "1.5.0",
            "_view_name": "HTMLView",
            "description": "",
            "description_tooltip": null,
            "layout": "IPY_MODEL_586496d145044fa2888be1400b249b43",
            "placeholder": "​",
            "style": "IPY_MODEL_fe6bc72a4bc743d8af4bba554fa38af5",
            "value": " 232k/232k [00:00&lt;00:00, 7.30MB/s]"
          }
        },
        "f53946b440e14010ab9b20aabcf2bf7e": {
          "model_module": "@jupyter-widgets/base",
          "model_name": "LayoutModel",
          "model_module_version": "1.2.0",
          "state": {
            "_model_module": "@jupyter-widgets/base",
            "_model_module_version": "1.2.0",
            "_model_name": "LayoutModel",
            "_view_count": null,
            "_view_module": "@jupyter-widgets/base",
            "_view_module_version": "1.2.0",
            "_view_name": "LayoutView",
            "align_content": null,
            "align_items": null,
            "align_self": null,
            "border": null,
            "bottom": null,
            "display": null,
            "flex": null,
            "flex_flow": null,
            "grid_area": null,
            "grid_auto_columns": null,
            "grid_auto_flow": null,
            "grid_auto_rows": null,
            "grid_column": null,
            "grid_gap": null,
            "grid_row": null,
            "grid_template_areas": null,
            "grid_template_columns": null,
            "grid_template_rows": null,
            "height": null,
            "justify_content": null,
            "justify_items": null,
            "left": null,
            "margin": null,
            "max_height": null,
            "max_width": null,
            "min_height": null,
            "min_width": null,
            "object_fit": null,
            "object_position": null,
            "order": null,
            "overflow": null,
            "overflow_x": null,
            "overflow_y": null,
            "padding": null,
            "right": null,
            "top": null,
            "visibility": null,
            "width": null
          }
        },
        "11e30885bab8448d97b974c7b27b1085": {
          "model_module": "@jupyter-widgets/base",
          "model_name": "LayoutModel",
          "model_module_version": "1.2.0",
          "state": {
            "_model_module": "@jupyter-widgets/base",
            "_model_module_version": "1.2.0",
            "_model_name": "LayoutModel",
            "_view_count": null,
            "_view_module": "@jupyter-widgets/base",
            "_view_module_version": "1.2.0",
            "_view_name": "LayoutView",
            "align_content": null,
            "align_items": null,
            "align_self": null,
            "border": null,
            "bottom": null,
            "display": null,
            "flex": null,
            "flex_flow": null,
            "grid_area": null,
            "grid_auto_columns": null,
            "grid_auto_flow": null,
            "grid_auto_rows": null,
            "grid_column": null,
            "grid_gap": null,
            "grid_row": null,
            "grid_template_areas": null,
            "grid_template_columns": null,
            "grid_template_rows": null,
            "height": null,
            "justify_content": null,
            "justify_items": null,
            "left": null,
            "margin": null,
            "max_height": null,
            "max_width": null,
            "min_height": null,
            "min_width": null,
            "object_fit": null,
            "object_position": null,
            "order": null,
            "overflow": null,
            "overflow_x": null,
            "overflow_y": null,
            "padding": null,
            "right": null,
            "top": null,
            "visibility": null,
            "width": null
          }
        },
        "03a9caf6c1914435a9371f19c7e11013": {
          "model_module": "@jupyter-widgets/controls",
          "model_name": "DescriptionStyleModel",
          "model_module_version": "1.5.0",
          "state": {
            "_model_module": "@jupyter-widgets/controls",
            "_model_module_version": "1.5.0",
            "_model_name": "DescriptionStyleModel",
            "_view_count": null,
            "_view_module": "@jupyter-widgets/base",
            "_view_module_version": "1.2.0",
            "_view_name": "StyleView",
            "description_width": ""
          }
        },
        "a191b88978f2487c9a5dff6b1a9e9088": {
          "model_module": "@jupyter-widgets/base",
          "model_name": "LayoutModel",
          "model_module_version": "1.2.0",
          "state": {
            "_model_module": "@jupyter-widgets/base",
            "_model_module_version": "1.2.0",
            "_model_name": "LayoutModel",
            "_view_count": null,
            "_view_module": "@jupyter-widgets/base",
            "_view_module_version": "1.2.0",
            "_view_name": "LayoutView",
            "align_content": null,
            "align_items": null,
            "align_self": null,
            "border": null,
            "bottom": null,
            "display": null,
            "flex": null,
            "flex_flow": null,
            "grid_area": null,
            "grid_auto_columns": null,
            "grid_auto_flow": null,
            "grid_auto_rows": null,
            "grid_column": null,
            "grid_gap": null,
            "grid_row": null,
            "grid_template_areas": null,
            "grid_template_columns": null,
            "grid_template_rows": null,
            "height": null,
            "justify_content": null,
            "justify_items": null,
            "left": null,
            "margin": null,
            "max_height": null,
            "max_width": null,
            "min_height": null,
            "min_width": null,
            "object_fit": null,
            "object_position": null,
            "order": null,
            "overflow": null,
            "overflow_x": null,
            "overflow_y": null,
            "padding": null,
            "right": null,
            "top": null,
            "visibility": null,
            "width": null
          }
        },
        "6a5e9fe9155c43d29f76d886fc10fa4c": {
          "model_module": "@jupyter-widgets/controls",
          "model_name": "ProgressStyleModel",
          "model_module_version": "1.5.0",
          "state": {
            "_model_module": "@jupyter-widgets/controls",
            "_model_module_version": "1.5.0",
            "_model_name": "ProgressStyleModel",
            "_view_count": null,
            "_view_module": "@jupyter-widgets/base",
            "_view_module_version": "1.2.0",
            "_view_name": "StyleView",
            "bar_color": null,
            "description_width": ""
          }
        },
        "586496d145044fa2888be1400b249b43": {
          "model_module": "@jupyter-widgets/base",
          "model_name": "LayoutModel",
          "model_module_version": "1.2.0",
          "state": {
            "_model_module": "@jupyter-widgets/base",
            "_model_module_version": "1.2.0",
            "_model_name": "LayoutModel",
            "_view_count": null,
            "_view_module": "@jupyter-widgets/base",
            "_view_module_version": "1.2.0",
            "_view_name": "LayoutView",
            "align_content": null,
            "align_items": null,
            "align_self": null,
            "border": null,
            "bottom": null,
            "display": null,
            "flex": null,
            "flex_flow": null,
            "grid_area": null,
            "grid_auto_columns": null,
            "grid_auto_flow": null,
            "grid_auto_rows": null,
            "grid_column": null,
            "grid_gap": null,
            "grid_row": null,
            "grid_template_areas": null,
            "grid_template_columns": null,
            "grid_template_rows": null,
            "height": null,
            "justify_content": null,
            "justify_items": null,
            "left": null,
            "margin": null,
            "max_height": null,
            "max_width": null,
            "min_height": null,
            "min_width": null,
            "object_fit": null,
            "object_position": null,
            "order": null,
            "overflow": null,
            "overflow_x": null,
            "overflow_y": null,
            "padding": null,
            "right": null,
            "top": null,
            "visibility": null,
            "width": null
          }
        },
        "fe6bc72a4bc743d8af4bba554fa38af5": {
          "model_module": "@jupyter-widgets/controls",
          "model_name": "DescriptionStyleModel",
          "model_module_version": "1.5.0",
          "state": {
            "_model_module": "@jupyter-widgets/controls",
            "_model_module_version": "1.5.0",
            "_model_name": "DescriptionStyleModel",
            "_view_count": null,
            "_view_module": "@jupyter-widgets/base",
            "_view_module_version": "1.2.0",
            "_view_name": "StyleView",
            "description_width": ""
          }
        },
        "510b2285b6394062826e59a385588a95": {
          "model_module": "@jupyter-widgets/controls",
          "model_name": "HBoxModel",
          "model_module_version": "1.5.0",
          "state": {
            "_dom_classes": [],
            "_model_module": "@jupyter-widgets/controls",
            "_model_module_version": "1.5.0",
            "_model_name": "HBoxModel",
            "_view_count": null,
            "_view_module": "@jupyter-widgets/controls",
            "_view_module_version": "1.5.0",
            "_view_name": "HBoxView",
            "box_style": "",
            "children": [
              "IPY_MODEL_4a12626048fe4d89b9bcf254ae0c454f",
              "IPY_MODEL_c05cece9ca434cae94b497ea236d1ac8",
              "IPY_MODEL_fe7174f01c7d4a39a10ee6ae54cd3d9c"
            ],
            "layout": "IPY_MODEL_5d9f777c2d71460485389662aed8e653"
          }
        },
        "4a12626048fe4d89b9bcf254ae0c454f": {
          "model_module": "@jupyter-widgets/controls",
          "model_name": "HTMLModel",
          "model_module_version": "1.5.0",
          "state": {
            "_dom_classes": [],
            "_model_module": "@jupyter-widgets/controls",
            "_model_module_version": "1.5.0",
            "_model_name": "HTMLModel",
            "_view_count": null,
            "_view_module": "@jupyter-widgets/controls",
            "_view_module_version": "1.5.0",
            "_view_name": "HTMLView",
            "description": "",
            "description_tooltip": null,
            "layout": "IPY_MODEL_276cdfaecdde47e6ab74e2be601ac7a2",
            "placeholder": "​",
            "style": "IPY_MODEL_10b079e0af304486b4841b5604712e57",
            "value": "Downloading (…)okenizer_config.json: 100%"
          }
        },
        "c05cece9ca434cae94b497ea236d1ac8": {
          "model_module": "@jupyter-widgets/controls",
          "model_name": "FloatProgressModel",
          "model_module_version": "1.5.0",
          "state": {
            "_dom_classes": [],
            "_model_module": "@jupyter-widgets/controls",
            "_model_module_version": "1.5.0",
            "_model_name": "FloatProgressModel",
            "_view_count": null,
            "_view_module": "@jupyter-widgets/controls",
            "_view_module_version": "1.5.0",
            "_view_name": "ProgressView",
            "bar_style": "success",
            "description": "",
            "description_tooltip": null,
            "layout": "IPY_MODEL_6d1193b5ec2d4584a42b6f1c692d96ce",
            "max": 28,
            "min": 0,
            "orientation": "horizontal",
            "style": "IPY_MODEL_25aacf1e73864e3a8852d90f9b70b0d3",
            "value": 28
          }
        },
        "fe7174f01c7d4a39a10ee6ae54cd3d9c": {
          "model_module": "@jupyter-widgets/controls",
          "model_name": "HTMLModel",
          "model_module_version": "1.5.0",
          "state": {
            "_dom_classes": [],
            "_model_module": "@jupyter-widgets/controls",
            "_model_module_version": "1.5.0",
            "_model_name": "HTMLModel",
            "_view_count": null,
            "_view_module": "@jupyter-widgets/controls",
            "_view_module_version": "1.5.0",
            "_view_name": "HTMLView",
            "description": "",
            "description_tooltip": null,
            "layout": "IPY_MODEL_ba2b15c78f8d45b08bb9074199d6b98e",
            "placeholder": "​",
            "style": "IPY_MODEL_9e882a8e4abd43d5a1d3a7bd17430aad",
            "value": " 28.0/28.0 [00:00&lt;00:00, 1.66kB/s]"
          }
        },
        "5d9f777c2d71460485389662aed8e653": {
          "model_module": "@jupyter-widgets/base",
          "model_name": "LayoutModel",
          "model_module_version": "1.2.0",
          "state": {
            "_model_module": "@jupyter-widgets/base",
            "_model_module_version": "1.2.0",
            "_model_name": "LayoutModel",
            "_view_count": null,
            "_view_module": "@jupyter-widgets/base",
            "_view_module_version": "1.2.0",
            "_view_name": "LayoutView",
            "align_content": null,
            "align_items": null,
            "align_self": null,
            "border": null,
            "bottom": null,
            "display": null,
            "flex": null,
            "flex_flow": null,
            "grid_area": null,
            "grid_auto_columns": null,
            "grid_auto_flow": null,
            "grid_auto_rows": null,
            "grid_column": null,
            "grid_gap": null,
            "grid_row": null,
            "grid_template_areas": null,
            "grid_template_columns": null,
            "grid_template_rows": null,
            "height": null,
            "justify_content": null,
            "justify_items": null,
            "left": null,
            "margin": null,
            "max_height": null,
            "max_width": null,
            "min_height": null,
            "min_width": null,
            "object_fit": null,
            "object_position": null,
            "order": null,
            "overflow": null,
            "overflow_x": null,
            "overflow_y": null,
            "padding": null,
            "right": null,
            "top": null,
            "visibility": null,
            "width": null
          }
        },
        "276cdfaecdde47e6ab74e2be601ac7a2": {
          "model_module": "@jupyter-widgets/base",
          "model_name": "LayoutModel",
          "model_module_version": "1.2.0",
          "state": {
            "_model_module": "@jupyter-widgets/base",
            "_model_module_version": "1.2.0",
            "_model_name": "LayoutModel",
            "_view_count": null,
            "_view_module": "@jupyter-widgets/base",
            "_view_module_version": "1.2.0",
            "_view_name": "LayoutView",
            "align_content": null,
            "align_items": null,
            "align_self": null,
            "border": null,
            "bottom": null,
            "display": null,
            "flex": null,
            "flex_flow": null,
            "grid_area": null,
            "grid_auto_columns": null,
            "grid_auto_flow": null,
            "grid_auto_rows": null,
            "grid_column": null,
            "grid_gap": null,
            "grid_row": null,
            "grid_template_areas": null,
            "grid_template_columns": null,
            "grid_template_rows": null,
            "height": null,
            "justify_content": null,
            "justify_items": null,
            "left": null,
            "margin": null,
            "max_height": null,
            "max_width": null,
            "min_height": null,
            "min_width": null,
            "object_fit": null,
            "object_position": null,
            "order": null,
            "overflow": null,
            "overflow_x": null,
            "overflow_y": null,
            "padding": null,
            "right": null,
            "top": null,
            "visibility": null,
            "width": null
          }
        },
        "10b079e0af304486b4841b5604712e57": {
          "model_module": "@jupyter-widgets/controls",
          "model_name": "DescriptionStyleModel",
          "model_module_version": "1.5.0",
          "state": {
            "_model_module": "@jupyter-widgets/controls",
            "_model_module_version": "1.5.0",
            "_model_name": "DescriptionStyleModel",
            "_view_count": null,
            "_view_module": "@jupyter-widgets/base",
            "_view_module_version": "1.2.0",
            "_view_name": "StyleView",
            "description_width": ""
          }
        },
        "6d1193b5ec2d4584a42b6f1c692d96ce": {
          "model_module": "@jupyter-widgets/base",
          "model_name": "LayoutModel",
          "model_module_version": "1.2.0",
          "state": {
            "_model_module": "@jupyter-widgets/base",
            "_model_module_version": "1.2.0",
            "_model_name": "LayoutModel",
            "_view_count": null,
            "_view_module": "@jupyter-widgets/base",
            "_view_module_version": "1.2.0",
            "_view_name": "LayoutView",
            "align_content": null,
            "align_items": null,
            "align_self": null,
            "border": null,
            "bottom": null,
            "display": null,
            "flex": null,
            "flex_flow": null,
            "grid_area": null,
            "grid_auto_columns": null,
            "grid_auto_flow": null,
            "grid_auto_rows": null,
            "grid_column": null,
            "grid_gap": null,
            "grid_row": null,
            "grid_template_areas": null,
            "grid_template_columns": null,
            "grid_template_rows": null,
            "height": null,
            "justify_content": null,
            "justify_items": null,
            "left": null,
            "margin": null,
            "max_height": null,
            "max_width": null,
            "min_height": null,
            "min_width": null,
            "object_fit": null,
            "object_position": null,
            "order": null,
            "overflow": null,
            "overflow_x": null,
            "overflow_y": null,
            "padding": null,
            "right": null,
            "top": null,
            "visibility": null,
            "width": null
          }
        },
        "25aacf1e73864e3a8852d90f9b70b0d3": {
          "model_module": "@jupyter-widgets/controls",
          "model_name": "ProgressStyleModel",
          "model_module_version": "1.5.0",
          "state": {
            "_model_module": "@jupyter-widgets/controls",
            "_model_module_version": "1.5.0",
            "_model_name": "ProgressStyleModel",
            "_view_count": null,
            "_view_module": "@jupyter-widgets/base",
            "_view_module_version": "1.2.0",
            "_view_name": "StyleView",
            "bar_color": null,
            "description_width": ""
          }
        },
        "ba2b15c78f8d45b08bb9074199d6b98e": {
          "model_module": "@jupyter-widgets/base",
          "model_name": "LayoutModel",
          "model_module_version": "1.2.0",
          "state": {
            "_model_module": "@jupyter-widgets/base",
            "_model_module_version": "1.2.0",
            "_model_name": "LayoutModel",
            "_view_count": null,
            "_view_module": "@jupyter-widgets/base",
            "_view_module_version": "1.2.0",
            "_view_name": "LayoutView",
            "align_content": null,
            "align_items": null,
            "align_self": null,
            "border": null,
            "bottom": null,
            "display": null,
            "flex": null,
            "flex_flow": null,
            "grid_area": null,
            "grid_auto_columns": null,
            "grid_auto_flow": null,
            "grid_auto_rows": null,
            "grid_column": null,
            "grid_gap": null,
            "grid_row": null,
            "grid_template_areas": null,
            "grid_template_columns": null,
            "grid_template_rows": null,
            "height": null,
            "justify_content": null,
            "justify_items": null,
            "left": null,
            "margin": null,
            "max_height": null,
            "max_width": null,
            "min_height": null,
            "min_width": null,
            "object_fit": null,
            "object_position": null,
            "order": null,
            "overflow": null,
            "overflow_x": null,
            "overflow_y": null,
            "padding": null,
            "right": null,
            "top": null,
            "visibility": null,
            "width": null
          }
        },
        "9e882a8e4abd43d5a1d3a7bd17430aad": {
          "model_module": "@jupyter-widgets/controls",
          "model_name": "DescriptionStyleModel",
          "model_module_version": "1.5.0",
          "state": {
            "_model_module": "@jupyter-widgets/controls",
            "_model_module_version": "1.5.0",
            "_model_name": "DescriptionStyleModel",
            "_view_count": null,
            "_view_module": "@jupyter-widgets/base",
            "_view_module_version": "1.2.0",
            "_view_name": "StyleView",
            "description_width": ""
          }
        },
        "ec264aa99f5a4005956c0331578b59d7": {
          "model_module": "@jupyter-widgets/controls",
          "model_name": "HBoxModel",
          "model_module_version": "1.5.0",
          "state": {
            "_dom_classes": [],
            "_model_module": "@jupyter-widgets/controls",
            "_model_module_version": "1.5.0",
            "_model_name": "HBoxModel",
            "_view_count": null,
            "_view_module": "@jupyter-widgets/controls",
            "_view_module_version": "1.5.0",
            "_view_name": "HBoxView",
            "box_style": "",
            "children": [
              "IPY_MODEL_6369c5a5eb634620a66e4d408452504b",
              "IPY_MODEL_1973cc31698b433a9e38ef895d63d436",
              "IPY_MODEL_8da3be732a7e45e0bb1472a498d88f35"
            ],
            "layout": "IPY_MODEL_f1db4aacd272436fb52eae65039d1f6d"
          }
        },
        "6369c5a5eb634620a66e4d408452504b": {
          "model_module": "@jupyter-widgets/controls",
          "model_name": "HTMLModel",
          "model_module_version": "1.5.0",
          "state": {
            "_dom_classes": [],
            "_model_module": "@jupyter-widgets/controls",
            "_model_module_version": "1.5.0",
            "_model_name": "HTMLModel",
            "_view_count": null,
            "_view_module": "@jupyter-widgets/controls",
            "_view_module_version": "1.5.0",
            "_view_name": "HTMLView",
            "description": "",
            "description_tooltip": null,
            "layout": "IPY_MODEL_0cab256e66e441048e01654adc0a48b8",
            "placeholder": "​",
            "style": "IPY_MODEL_14c8ecf1011d4903b478008fa50f61e9",
            "value": "Downloading (…)lve/main/config.json: 100%"
          }
        },
        "1973cc31698b433a9e38ef895d63d436": {
          "model_module": "@jupyter-widgets/controls",
          "model_name": "FloatProgressModel",
          "model_module_version": "1.5.0",
          "state": {
            "_dom_classes": [],
            "_model_module": "@jupyter-widgets/controls",
            "_model_module_version": "1.5.0",
            "_model_name": "FloatProgressModel",
            "_view_count": null,
            "_view_module": "@jupyter-widgets/controls",
            "_view_module_version": "1.5.0",
            "_view_name": "ProgressView",
            "bar_style": "success",
            "description": "",
            "description_tooltip": null,
            "layout": "IPY_MODEL_659b386932ea45d6b3d2e92f35f79454",
            "max": 570,
            "min": 0,
            "orientation": "horizontal",
            "style": "IPY_MODEL_77df40053e3141249ca1450b5f27d8e2",
            "value": 570
          }
        },
        "8da3be732a7e45e0bb1472a498d88f35": {
          "model_module": "@jupyter-widgets/controls",
          "model_name": "HTMLModel",
          "model_module_version": "1.5.0",
          "state": {
            "_dom_classes": [],
            "_model_module": "@jupyter-widgets/controls",
            "_model_module_version": "1.5.0",
            "_model_name": "HTMLModel",
            "_view_count": null,
            "_view_module": "@jupyter-widgets/controls",
            "_view_module_version": "1.5.0",
            "_view_name": "HTMLView",
            "description": "",
            "description_tooltip": null,
            "layout": "IPY_MODEL_aa1fddb4636e488bb352ccbf0c7c3499",
            "placeholder": "​",
            "style": "IPY_MODEL_e7708baac3d14c54a2d678696fcfd077",
            "value": " 570/570 [00:00&lt;00:00, 49.0kB/s]"
          }
        },
        "f1db4aacd272436fb52eae65039d1f6d": {
          "model_module": "@jupyter-widgets/base",
          "model_name": "LayoutModel",
          "model_module_version": "1.2.0",
          "state": {
            "_model_module": "@jupyter-widgets/base",
            "_model_module_version": "1.2.0",
            "_model_name": "LayoutModel",
            "_view_count": null,
            "_view_module": "@jupyter-widgets/base",
            "_view_module_version": "1.2.0",
            "_view_name": "LayoutView",
            "align_content": null,
            "align_items": null,
            "align_self": null,
            "border": null,
            "bottom": null,
            "display": null,
            "flex": null,
            "flex_flow": null,
            "grid_area": null,
            "grid_auto_columns": null,
            "grid_auto_flow": null,
            "grid_auto_rows": null,
            "grid_column": null,
            "grid_gap": null,
            "grid_row": null,
            "grid_template_areas": null,
            "grid_template_columns": null,
            "grid_template_rows": null,
            "height": null,
            "justify_content": null,
            "justify_items": null,
            "left": null,
            "margin": null,
            "max_height": null,
            "max_width": null,
            "min_height": null,
            "min_width": null,
            "object_fit": null,
            "object_position": null,
            "order": null,
            "overflow": null,
            "overflow_x": null,
            "overflow_y": null,
            "padding": null,
            "right": null,
            "top": null,
            "visibility": null,
            "width": null
          }
        },
        "0cab256e66e441048e01654adc0a48b8": {
          "model_module": "@jupyter-widgets/base",
          "model_name": "LayoutModel",
          "model_module_version": "1.2.0",
          "state": {
            "_model_module": "@jupyter-widgets/base",
            "_model_module_version": "1.2.0",
            "_model_name": "LayoutModel",
            "_view_count": null,
            "_view_module": "@jupyter-widgets/base",
            "_view_module_version": "1.2.0",
            "_view_name": "LayoutView",
            "align_content": null,
            "align_items": null,
            "align_self": null,
            "border": null,
            "bottom": null,
            "display": null,
            "flex": null,
            "flex_flow": null,
            "grid_area": null,
            "grid_auto_columns": null,
            "grid_auto_flow": null,
            "grid_auto_rows": null,
            "grid_column": null,
            "grid_gap": null,
            "grid_row": null,
            "grid_template_areas": null,
            "grid_template_columns": null,
            "grid_template_rows": null,
            "height": null,
            "justify_content": null,
            "justify_items": null,
            "left": null,
            "margin": null,
            "max_height": null,
            "max_width": null,
            "min_height": null,
            "min_width": null,
            "object_fit": null,
            "object_position": null,
            "order": null,
            "overflow": null,
            "overflow_x": null,
            "overflow_y": null,
            "padding": null,
            "right": null,
            "top": null,
            "visibility": null,
            "width": null
          }
        },
        "14c8ecf1011d4903b478008fa50f61e9": {
          "model_module": "@jupyter-widgets/controls",
          "model_name": "DescriptionStyleModel",
          "model_module_version": "1.5.0",
          "state": {
            "_model_module": "@jupyter-widgets/controls",
            "_model_module_version": "1.5.0",
            "_model_name": "DescriptionStyleModel",
            "_view_count": null,
            "_view_module": "@jupyter-widgets/base",
            "_view_module_version": "1.2.0",
            "_view_name": "StyleView",
            "description_width": ""
          }
        },
        "659b386932ea45d6b3d2e92f35f79454": {
          "model_module": "@jupyter-widgets/base",
          "model_name": "LayoutModel",
          "model_module_version": "1.2.0",
          "state": {
            "_model_module": "@jupyter-widgets/base",
            "_model_module_version": "1.2.0",
            "_model_name": "LayoutModel",
            "_view_count": null,
            "_view_module": "@jupyter-widgets/base",
            "_view_module_version": "1.2.0",
            "_view_name": "LayoutView",
            "align_content": null,
            "align_items": null,
            "align_self": null,
            "border": null,
            "bottom": null,
            "display": null,
            "flex": null,
            "flex_flow": null,
            "grid_area": null,
            "grid_auto_columns": null,
            "grid_auto_flow": null,
            "grid_auto_rows": null,
            "grid_column": null,
            "grid_gap": null,
            "grid_row": null,
            "grid_template_areas": null,
            "grid_template_columns": null,
            "grid_template_rows": null,
            "height": null,
            "justify_content": null,
            "justify_items": null,
            "left": null,
            "margin": null,
            "max_height": null,
            "max_width": null,
            "min_height": null,
            "min_width": null,
            "object_fit": null,
            "object_position": null,
            "order": null,
            "overflow": null,
            "overflow_x": null,
            "overflow_y": null,
            "padding": null,
            "right": null,
            "top": null,
            "visibility": null,
            "width": null
          }
        },
        "77df40053e3141249ca1450b5f27d8e2": {
          "model_module": "@jupyter-widgets/controls",
          "model_name": "ProgressStyleModel",
          "model_module_version": "1.5.0",
          "state": {
            "_model_module": "@jupyter-widgets/controls",
            "_model_module_version": "1.5.0",
            "_model_name": "ProgressStyleModel",
            "_view_count": null,
            "_view_module": "@jupyter-widgets/base",
            "_view_module_version": "1.2.0",
            "_view_name": "StyleView",
            "bar_color": null,
            "description_width": ""
          }
        },
        "aa1fddb4636e488bb352ccbf0c7c3499": {
          "model_module": "@jupyter-widgets/base",
          "model_name": "LayoutModel",
          "model_module_version": "1.2.0",
          "state": {
            "_model_module": "@jupyter-widgets/base",
            "_model_module_version": "1.2.0",
            "_model_name": "LayoutModel",
            "_view_count": null,
            "_view_module": "@jupyter-widgets/base",
            "_view_module_version": "1.2.0",
            "_view_name": "LayoutView",
            "align_content": null,
            "align_items": null,
            "align_self": null,
            "border": null,
            "bottom": null,
            "display": null,
            "flex": null,
            "flex_flow": null,
            "grid_area": null,
            "grid_auto_columns": null,
            "grid_auto_flow": null,
            "grid_auto_rows": null,
            "grid_column": null,
            "grid_gap": null,
            "grid_row": null,
            "grid_template_areas": null,
            "grid_template_columns": null,
            "grid_template_rows": null,
            "height": null,
            "justify_content": null,
            "justify_items": null,
            "left": null,
            "margin": null,
            "max_height": null,
            "max_width": null,
            "min_height": null,
            "min_width": null,
            "object_fit": null,
            "object_position": null,
            "order": null,
            "overflow": null,
            "overflow_x": null,
            "overflow_y": null,
            "padding": null,
            "right": null,
            "top": null,
            "visibility": null,
            "width": null
          }
        },
        "e7708baac3d14c54a2d678696fcfd077": {
          "model_module": "@jupyter-widgets/controls",
          "model_name": "DescriptionStyleModel",
          "model_module_version": "1.5.0",
          "state": {
            "_model_module": "@jupyter-widgets/controls",
            "_model_module_version": "1.5.0",
            "_model_name": "DescriptionStyleModel",
            "_view_count": null,
            "_view_module": "@jupyter-widgets/base",
            "_view_module_version": "1.2.0",
            "_view_name": "StyleView",
            "description_width": ""
          }
        }
      }
    }
  },
  "cells": [
    {
      "cell_type": "markdown",
      "source": [
        "#VAE Implementation with Temporal Dependency incprporation in latent space\n",
        "\n",
        "Problem Statement:\n",
        "Automatic story generation (ASG) involves the ability to generate coherent and engaging stories and has many potential applications, from creative writing to chatbots and virtual assistants. In recent years, it has gained a lot of popularity and is an active research area. \n",
        "\n",
        "Dataset: For this project, we will use the WritingPrompts dataset, which was released by Facebook Research. This contains over 300,000 short stories. We will use a part of this dataset, owing to the limited computing resources available, and split the dataset into training, validation, and test sets for training and evaluating our models.\n",
        "\n"
      ],
      "metadata": {
        "id": "FxoFEr44xs35"
      }
    },
    {
      "cell_type": "markdown",
      "source": [
        "Idea:\n",
        "\n",
        "1.   We first load the WritingPrompts dataset \n",
        "2.   Preprocess the dataset\n",
        "3.   Define the model architecture\n",
        "4.   Train the Model\n",
        "5.   Test the model\n",
        "6.   Plot the graphs - accuracy and other metrics\n",
        "8.   Compare the performance blue score, perplexity\n",
        "9.   Identify the limitations of TD-VAE\n"
      ],
      "metadata": {
        "id": "lUxGWWwjx2_t"
      }
    },
    {
      "cell_type": "code",
      "source": [
        "!pip install transformers"
      ],
      "metadata": {
        "id": "FIeA9THRC5Hh",
        "colab": {
          "base_uri": "https://localhost:8080/"
        },
        "outputId": "cf887817-4be2-4528-dc6f-10d290c362c4"
      },
      "execution_count": null,
      "outputs": [
        {
          "output_type": "stream",
          "name": "stdout",
          "text": [
            "Looking in indexes: https://pypi.org/simple, https://us-python.pkg.dev/colab-wheels/public/simple/\n",
            "Collecting transformers\n",
            "  Downloading transformers-4.29.2-py3-none-any.whl (7.1 MB)\n",
            "\u001b[2K     \u001b[90m━━━━━━━━━━━━━━━━━━━━━━━━━━━━━━━━━━━━━━━━\u001b[0m \u001b[32m7.1/7.1 MB\u001b[0m \u001b[31m107.1 MB/s\u001b[0m eta \u001b[36m0:00:00\u001b[0m\n",
            "\u001b[?25hRequirement already satisfied: filelock in /usr/local/lib/python3.10/dist-packages (from transformers) (3.12.0)\n",
            "Collecting huggingface-hub<1.0,>=0.14.1 (from transformers)\n",
            "  Downloading huggingface_hub-0.14.1-py3-none-any.whl (224 kB)\n",
            "\u001b[2K     \u001b[90m━━━━━━━━━━━━━━━━━━━━━━━━━━━━━━━━━━━━━━\u001b[0m \u001b[32m224.5/224.5 kB\u001b[0m \u001b[31m29.9 MB/s\u001b[0m eta \u001b[36m0:00:00\u001b[0m\n",
            "\u001b[?25hRequirement already satisfied: numpy>=1.17 in /usr/local/lib/python3.10/dist-packages (from transformers) (1.22.4)\n",
            "Requirement already satisfied: packaging>=20.0 in /usr/local/lib/python3.10/dist-packages (from transformers) (23.1)\n",
            "Requirement already satisfied: pyyaml>=5.1 in /usr/local/lib/python3.10/dist-packages (from transformers) (6.0)\n",
            "Requirement already satisfied: regex!=2019.12.17 in /usr/local/lib/python3.10/dist-packages (from transformers) (2022.10.31)\n",
            "Requirement already satisfied: requests in /usr/local/lib/python3.10/dist-packages (from transformers) (2.27.1)\n",
            "Collecting tokenizers!=0.11.3,<0.14,>=0.11.1 (from transformers)\n",
            "  Downloading tokenizers-0.13.3-cp310-cp310-manylinux_2_17_x86_64.manylinux2014_x86_64.whl (7.8 MB)\n",
            "\u001b[2K     \u001b[90m━━━━━━━━━━━━━━━━━━━━━━━━━━━━━━━━━━━━━━━━\u001b[0m \u001b[32m7.8/7.8 MB\u001b[0m \u001b[31m116.1 MB/s\u001b[0m eta \u001b[36m0:00:00\u001b[0m\n",
            "\u001b[?25hRequirement already satisfied: tqdm>=4.27 in /usr/local/lib/python3.10/dist-packages (from transformers) (4.65.0)\n",
            "Requirement already satisfied: fsspec in /usr/local/lib/python3.10/dist-packages (from huggingface-hub<1.0,>=0.14.1->transformers) (2023.4.0)\n",
            "Requirement already satisfied: typing-extensions>=3.7.4.3 in /usr/local/lib/python3.10/dist-packages (from huggingface-hub<1.0,>=0.14.1->transformers) (4.5.0)\n",
            "Requirement already satisfied: urllib3<1.27,>=1.21.1 in /usr/local/lib/python3.10/dist-packages (from requests->transformers) (1.26.15)\n",
            "Requirement already satisfied: certifi>=2017.4.17 in /usr/local/lib/python3.10/dist-packages (from requests->transformers) (2022.12.7)\n",
            "Requirement already satisfied: charset-normalizer~=2.0.0 in /usr/local/lib/python3.10/dist-packages (from requests->transformers) (2.0.12)\n",
            "Requirement already satisfied: idna<4,>=2.5 in /usr/local/lib/python3.10/dist-packages (from requests->transformers) (3.4)\n",
            "Installing collected packages: tokenizers, huggingface-hub, transformers\n",
            "Successfully installed huggingface-hub-0.14.1 tokenizers-0.13.3 transformers-4.29.2\n"
          ]
        }
      ]
    },
    {
      "cell_type": "code",
      "source": [
        "# import necessary packages\n",
        "import os\n",
        "import pandas as pd\n",
        "import spacy\n",
        "import torch\n",
        "from torch import nn\n",
        "from torch.nn import functional as F\n",
        "from torch.autograd import Variable\n",
        "from torch.utils.data import Dataset, DataLoader\n",
        "from torch import optim\n",
        "import pickle\n",
        "from collections import Counter\n",
        "from sklearn.model_selection import train_test_split\n",
        "import torch.backends.cudnn as cudnn\n",
        "import torchtext\n",
        "from torchtext.utils import download_from_url\n",
        "from torchtext.data.utils import get_tokenizer\n",
        "from torchtext.vocab import build_vocab_from_iterator\n",
        "from transformers import BertTokenizer\n",
        "from torch.nn.utils.rnn import pad_sequence\n",
        "import nltk\n",
        "from nltk.translate.bleu_score import corpus_bleu, sentence_bleu"
      ],
      "metadata": {
        "id": "FNUYbPzxynaS"
      },
      "execution_count": null,
      "outputs": []
    },
    {
      "cell_type": "code",
      "source": [
        "from google.colab import drive\n",
        "drive.mount('/content/drive', force_remount=True)"
      ],
      "metadata": {
        "id": "i0HPucOM-7vL",
        "colab": {
          "base_uri": "https://localhost:8080/"
        },
        "outputId": "7ee750af-77b1-47a6-f4a4-96d22812b774"
      },
      "execution_count": null,
      "outputs": [
        {
          "output_type": "stream",
          "name": "stdout",
          "text": [
            "Mounted at /content/drive\n"
          ]
        }
      ]
    },
    {
      "cell_type": "markdown",
      "source": [
        "# Load the Dataset and Preprocess\n",
        "\n",
        "For this project, we will use the WritingPrompts dataset, which was released by Facebook Research. This contains over 300,000 short stories. We will use a part of this dataset, owing to the limited computing resources available, and split the dataset into training, validation, and test sets for training and evaluating our models.\n",
        "\n",
        "From https://github.com/facebookresearch/fairseq/tree/main/examples/stories \n",
        "\n"
      ],
      "metadata": {
        "id": "ApfwRqstyZtE"
      }
    },
    {
      "cell_type": "code",
      "source": [
        "data_dir = \"/content/drive/MyDrive/Colab Notebooks/DL Final Project/Pickles-first10k/\"\n",
        "\n",
        "# Load the tokenized data from a file\n",
        "with open(data_dir+'train_src_tokenized.pickle', 'rb') as f:\n",
        "    train_src_tokenized = pickle.load(f)\n",
        "\n",
        "with open(data_dir+'train_tgt_tokenized.pickle', 'rb') as f:\n",
        "    train_tgt_tokenized = pickle.load(f)\n",
        "\n",
        "with open(data_dir+'val_src_tokenized.pickle', 'rb') as f:\n",
        "    val_src_tokenized = pickle.load(f)\n",
        "\n",
        "with open(data_dir+'val_tgt_tokenized.pickle', 'rb') as f:\n",
        "    val_tgt_tokenized = pickle.load(f)\n",
        "\n",
        "with open(data_dir+'test_src_tokenized.pickle', 'rb') as f:\n",
        "    test_src_tokenized = pickle.load(f)\n",
        "\n",
        "with open(data_dir+'test_tgt_tokenized.pickle', 'rb') as f:\n",
        "    test_tgt_tokenized = pickle.load(f)"
      ],
      "metadata": {
        "id": "3mawc9Mnv-2P"
      },
      "execution_count": null,
      "outputs": []
    },
    {
      "cell_type": "markdown",
      "source": [
        "Tokenize the data using BertTokenizer"
      ],
      "metadata": {
        "id": "3bEvg6T7iXvJ"
      }
    },
    {
      "cell_type": "code",
      "source": [
        "from transformers import BertTokenizer\n",
        "\n",
        "bert_tokenizer = BertTokenizer.from_pretrained('bert-base-uncased')\n",
        "\n",
        "train_src_tokenized_bert = [bert_tokenizer.encode(seq, add_special_tokens=True, max_length=512, truncation=True) for seq in train_src_tokenized]\n",
        "train_tgt_tokenized_bert = [bert_tokenizer.encode(seq, add_special_tokens=True, max_length=512, truncation=True) for seq in train_tgt_tokenized]\n",
        "val_src_tokenized_bert = [bert_tokenizer.encode(seq, add_special_tokens=True, max_length=512, truncation=True) for seq in val_src_tokenized]\n",
        "val_tgt_tokenized_bert = [bert_tokenizer.encode(seq, add_special_tokens=True, max_length=512, truncation=True) for seq in val_tgt_tokenized]\n",
        "test_src_tokenized_bert = [bert_tokenizer.encode(seq, add_special_tokens=True, max_length=512, truncation=True) for seq in test_src_tokenized]\n",
        "test_tgt_tokenized_bert = [bert_tokenizer.encode(seq, add_special_tokens=True, max_length=512, truncation=True) for seq in test_tgt_tokenized]\n"
      ],
      "metadata": {
        "id": "8AL-khGGhXUT",
        "colab": {
          "base_uri": "https://localhost:8080/",
          "height": 113,
          "referenced_widgets": [
            "fda2852028f3458f9d3954bfd3e3fc8f",
            "48ec2472d8414e50ba759790722bb378",
            "b5df4869f63449faa3c8bb8dbead278e",
            "a3db09b721a14cba8dc8549b39465f38",
            "f53946b440e14010ab9b20aabcf2bf7e",
            "11e30885bab8448d97b974c7b27b1085",
            "03a9caf6c1914435a9371f19c7e11013",
            "a191b88978f2487c9a5dff6b1a9e9088",
            "6a5e9fe9155c43d29f76d886fc10fa4c",
            "586496d145044fa2888be1400b249b43",
            "fe6bc72a4bc743d8af4bba554fa38af5",
            "510b2285b6394062826e59a385588a95",
            "4a12626048fe4d89b9bcf254ae0c454f",
            "c05cece9ca434cae94b497ea236d1ac8",
            "fe7174f01c7d4a39a10ee6ae54cd3d9c",
            "5d9f777c2d71460485389662aed8e653",
            "276cdfaecdde47e6ab74e2be601ac7a2",
            "10b079e0af304486b4841b5604712e57",
            "6d1193b5ec2d4584a42b6f1c692d96ce",
            "25aacf1e73864e3a8852d90f9b70b0d3",
            "ba2b15c78f8d45b08bb9074199d6b98e",
            "9e882a8e4abd43d5a1d3a7bd17430aad",
            "ec264aa99f5a4005956c0331578b59d7",
            "6369c5a5eb634620a66e4d408452504b",
            "1973cc31698b433a9e38ef895d63d436",
            "8da3be732a7e45e0bb1472a498d88f35",
            "f1db4aacd272436fb52eae65039d1f6d",
            "0cab256e66e441048e01654adc0a48b8",
            "14c8ecf1011d4903b478008fa50f61e9",
            "659b386932ea45d6b3d2e92f35f79454",
            "77df40053e3141249ca1450b5f27d8e2",
            "aa1fddb4636e488bb352ccbf0c7c3499",
            "e7708baac3d14c54a2d678696fcfd077"
          ]
        },
        "outputId": "2b2053da-2be9-4a72-defa-ba9b86d26085"
      },
      "execution_count": null,
      "outputs": [
        {
          "output_type": "display_data",
          "data": {
            "text/plain": [
              "Downloading (…)solve/main/vocab.txt:   0%|          | 0.00/232k [00:00<?, ?B/s]"
            ],
            "application/vnd.jupyter.widget-view+json": {
              "version_major": 2,
              "version_minor": 0,
              "model_id": "fda2852028f3458f9d3954bfd3e3fc8f"
            }
          },
          "metadata": {}
        },
        {
          "output_type": "display_data",
          "data": {
            "text/plain": [
              "Downloading (…)okenizer_config.json:   0%|          | 0.00/28.0 [00:00<?, ?B/s]"
            ],
            "application/vnd.jupyter.widget-view+json": {
              "version_major": 2,
              "version_minor": 0,
              "model_id": "510b2285b6394062826e59a385588a95"
            }
          },
          "metadata": {}
        },
        {
          "output_type": "display_data",
          "data": {
            "text/plain": [
              "Downloading (…)lve/main/config.json:   0%|          | 0.00/570 [00:00<?, ?B/s]"
            ],
            "application/vnd.jupyter.widget-view+json": {
              "version_major": 2,
              "version_minor": 0,
              "model_id": "ec264aa99f5a4005956c0331578b59d7"
            }
          },
          "metadata": {}
        }
      ]
    },
    {
      "cell_type": "markdown",
      "source": [
        "Convert to tensors and pad them"
      ],
      "metadata": {
        "id": "mJTZo7HsjDYC"
      }
    },
    {
      "cell_type": "code",
      "source": [
        "train_src_tensor = [torch.tensor(seq) for seq in train_src_tokenized_bert]\n",
        "train_tgt_tensor = [torch.tensor(seq) for seq in train_tgt_tokenized_bert]\n",
        "val_src_tensor = [torch.tensor(seq) for seq in val_src_tokenized_bert]\n",
        "val_tgt_tensor = [torch.tensor(seq) for seq in val_tgt_tokenized_bert]\n",
        "test_src_tensor = [torch.tensor(seq) for seq in test_src_tokenized_bert]\n",
        "test_tgt_tensor = [torch.tensor(seq) for seq in test_tgt_tokenized_bert]\n",
        "\n",
        "train_src_padded = pad_sequence(train_src_tensor, batch_first=True)\n",
        "train_tgt_padded = pad_sequence(train_tgt_tensor, batch_first=True)\n",
        "val_src_padded = pad_sequence(val_src_tensor, batch_first=True)\n",
        "val_tgt_padded = pad_sequence(val_tgt_tensor, batch_first=True)\n",
        "test_src_padded = pad_sequence(test_src_tensor, batch_first=True)\n",
        "test_tgt_padded = pad_sequence(test_tgt_tensor, batch_first=True)\n",
        "\n",
        "\n",
        "class TranslationDataset(Dataset):\n",
        "    def __init__(self, src_tensor, tgt_tensor):\n",
        "        self.src_tensor = src_tensor\n",
        "        self.tgt_tensor = tgt_tensor\n",
        "\n",
        "    def __len__(self):\n",
        "        return len(self.src_tensor)\n",
        "\n",
        "    def __getitem__(self, idx):\n",
        "        return self.src_tensor[idx], self.tgt_tensor[idx]\n",
        "\n",
        "train_dataset = TranslationDataset(train_src_padded, train_tgt_padded)\n",
        "val_dataset = TranslationDataset(val_src_padded, val_tgt_padded)\n",
        "test_dataset = TranslationDataset(test_src_padded, test_tgt_padded)\n",
        "\n",
        "batch_size = 16\n",
        "\n",
        "train_dataloader = DataLoader(train_dataset, batch_size=batch_size, shuffle=True)\n",
        "val_dataloader = DataLoader(val_dataset, batch_size=batch_size)\n",
        "test_dataloader = DataLoader(test_dataset, batch_size=batch_size)\n"
      ],
      "metadata": {
        "id": "Vq-iCFqGjKec"
      },
      "execution_count": null,
      "outputs": []
    },
    {
      "cell_type": "code",
      "source": [
        "print(f\"Tokenized length train => Source: {len(train_src_tokenized)}, Target: {len(train_tgt_tokenized)}\")"
      ],
      "metadata": {
        "colab": {
          "base_uri": "https://localhost:8080/"
        },
        "id": "bf9PDj9o9AxD",
        "outputId": "e321f9c6-7435-4f36-b5e7-c3059f7fc04e"
      },
      "execution_count": null,
      "outputs": [
        {
          "output_type": "stream",
          "name": "stdout",
          "text": [
            "Tokenized length train => Source: 10001, Target: 10001\n"
          ]
        }
      ]
    },
    {
      "cell_type": "markdown",
      "source": [
        "# Define the model\n",
        "\n",
        "Parts of the code are inspired by https://github.com/ankitkv/TD-VAE/blob/master/models/tdvae/tdvae.py and https://github.com/xqding/TD-VAE/blob/master/script/model.py \n",
        "\n",
        "\n",
        "\n"
      ],
      "metadata": {
        "id": "SFqUcgE7xm5I"
      }
    },
    {
      "cell_type": "code",
      "source": [
        "class TDVAE(nn.Module):\n",
        "    def __init__(self, vocab_size_src, vocab_size_tgt, z_dim, rnn_hid_dim, num_layers, dropout=0.5):\n",
        "        super().__init__()\n",
        "        self.vocab_size_src = vocab_size_src\n",
        "        self.vocab_size_tgt = vocab_size_tgt\n",
        "        self.z_dim = z_dim\n",
        "        self.rnn_hid_dim = rnn_hid_dim\n",
        "        self.num_layers = num_layers\n",
        "        \n",
        "        self.src_embedding = nn.Embedding(vocab_size_src, rnn_hid_dim)\n",
        "        self.tgt_embedding = nn.Embedding(vocab_size_tgt, rnn_hid_dim)\n",
        "        \n",
        "        self.encoder_rnn = nn.LSTM(rnn_hid_dim, rnn_hid_dim, num_layers, batch_first=True, dropout=dropout)\n",
        "        self.decoder_rnn = nn.LSTM(rnn_hid_dim + z_dim, rnn_hid_dim, num_layers, batch_first=True, dropout=dropout)\n",
        "        \n",
        "        self.mu_linear = nn.Linear(rnn_hid_dim, z_dim)\n",
        "        self.logvar_linear = nn.Linear(rnn_hid_dim, z_dim)\n",
        "        \n",
        "        # Add an extra layer to model the dynamics in the latent space\n",
        "        self.latent_rnn = nn.LSTM(z_dim, z_dim, num_layers, batch_first=True, dropout=dropout)\n",
        "        \n",
        "        self.decoder_linear = nn.Linear(rnn_hid_dim, vocab_size_tgt)\n",
        "        \n",
        "    def encode(self, src_input):\n",
        "        batch_size = src_input.size(0)\n",
        "        src_embedded = self.src_embedding(src_input)\n",
        "        _, (last_hidden, _) = self.encoder_rnn(src_embedded)\n",
        "        mu = self.mu_linear(last_hidden[-1])\n",
        "        logvar = self.logvar_linear(last_hidden[-1])\n",
        "        z = self.reparameterize(mu, logvar, batch_size)\n",
        "        return mu, logvar, z\n",
        "    \n",
        "    def decode(self, tgt_input, z):\n",
        "        batch_size, tgt_len = tgt_input.size()\n",
        "        tgt_embedded = self.tgt_embedding(tgt_input)\n",
        "        z_expanded = z.unsqueeze(1).expand(batch_size, tgt_len, self.z_dim)\n",
        "        decoder_input = torch.cat((tgt_embedded, z_expanded), dim=2)\n",
        "        decoder_output, _ = self.decoder_rnn(decoder_input)\n",
        "        decoder_logits = self.decoder_linear(decoder_output)\n",
        "        return decoder_logits\n",
        "        \n",
        "    def reparameterize(self, mu, logvar, batch_size):\n",
        "        std = torch.exp(0.5 * logvar)\n",
        "        eps = torch.randn(batch_size, self.z_dim, device=mu.device)\n",
        "        z = eps * std + mu\n",
        "        return z\n",
        "    \n",
        "    def forward(self, src_input, tgt_input):\n",
        "        mu, logvar, z = self.encode(src_input)\n",
        "        z, _ = self.latent_rnn(z.unsqueeze(0))  # Add temporal dependencies in the latent space\n",
        "        z = z.squeeze(0)\n",
        "        decoder_logits = self.decode(tgt_input, z)\n",
        "        return decoder_logits, mu, logvar\n"
      ],
      "metadata": {
        "id": "mxQq35fyBhJ3"
      },
      "execution_count": null,
      "outputs": []
    },
    {
      "cell_type": "markdown",
      "source": [
        "# Define the Hyperparameters"
      ],
      "metadata": {
        "id": "f8BiXVNozyIH"
      }
    },
    {
      "cell_type": "code",
      "source": [
        "src_vocab = Counter(token for seq in train_src_tokenized for token in seq)\n",
        "vocab_size_src = len(src_vocab)\n",
        "\n",
        "tgt_vocab = Counter(token for seq in train_tgt_tokenized for token in seq)\n",
        "vocab_size_tgt = len(tgt_vocab)\n",
        "\n",
        "print(f\"Vocab size => Source: {vocab_size_src}, Target: {vocab_size_tgt}\")\n",
        "z_dim = 64\n",
        "rnn_hid_dim = 32\n",
        "num_layers = 2\n",
        "dropout = 0.5\n",
        "lr = 0.01\n",
        "\n",
        "model = TDVAE(vocab_size_tgt, vocab_size_tgt, z_dim, rnn_hid_dim, num_layers, dropout)\n",
        "optimizer = optim.Adam(model.parameters(), lr=lr)\n",
        "criterion = nn.CrossEntropyLoss(ignore_index=bert_tokenizer.pad_token_id)\n",
        "\n",
        "\n"
      ],
      "metadata": {
        "id": "T7v5KcnFBhDJ",
        "colab": {
          "base_uri": "https://localhost:8080/"
        },
        "outputId": "e707eb72-8eeb-4d18-c962-5088dfe55fa2"
      },
      "execution_count": null,
      "outputs": [
        {
          "output_type": "stream",
          "name": "stdout",
          "text": [
            "Vocab size => Source: 13774, Target: 71443\n"
          ]
        }
      ]
    },
    {
      "cell_type": "markdown",
      "source": [
        "# Train the Model"
      ],
      "metadata": {
        "id": "LK4zKzAtzu1v"
      }
    },
    {
      "cell_type": "code",
      "source": [
        "def bleu_score(model, dataloader, device):\n",
        "    model.eval()\n",
        "    references = []\n",
        "    hypotheses = []\n",
        "\n",
        "    with torch.no_grad():\n",
        "        for src_batch, tgt_batch in dataloader:\n",
        "            src_batch = torch.tensor(src_batch).long().to(device)\n",
        "            tgt_batch = torch.tensor(tgt_batch).long().to(device)\n",
        "\n",
        "    \n",
        "            output, mu, logvar = model(src_batch, tgt_batch)\n",
        "            output = output.argmax(2)\n",
        "            for ref, hypo in zip(tgt_batch, output):\n",
        "                references.append([ref.cpu().tolist()])\n",
        "                hypotheses.append(hypo.cpu().tolist())\n",
        "\n",
        "    return corpus_bleu(references, hypotheses)\n"
      ],
      "metadata": {
        "id": "x9bfxlW7U0Ta"
      },
      "execution_count": null,
      "outputs": []
    },
    {
      "cell_type": "code",
      "source": [
        "\n",
        "def calculate_scores(model, dataloader, device):\n",
        "    model.eval()\n",
        "    references = []\n",
        "    hypotheses = []\n",
        "    references_decoded = []\n",
        "\n",
        "    with torch.no_grad():\n",
        "        for src_batch, tgt_batch in dataloader:\n",
        "            src_batch = torch.tensor(src_batch).long().to(device)\n",
        "            tgt_batch = torch.tensor(tgt_batch).long().to(device)\n",
        "\n",
        "            output, mu, logvar = model(src_batch, tgt_batch)\n",
        "            output = output.argmax(2)\n",
        "\n",
        "            \n",
        "            for ref, hypo in zip(tgt_batch, output):\n",
        "                references.append([ref.cpu().tolist()])\n",
        "                hypotheses.append(hypo.cpu().tolist())\n",
        "\n",
        "    bleu_score = corpus_bleu(references, hypotheses)\n",
        "\n",
        "    return bleu_score\n"
      ],
      "metadata": {
        "id": "pF5x5-nTSgWH"
      },
      "execution_count": null,
      "outputs": []
    },
    {
      "cell_type": "code",
      "source": [
        "import shutil\n",
        "num_epochs = 30\n",
        "device = torch.device('cuda' if torch.cuda.is_available() else 'cpu')\n",
        "\n",
        "if device == 'cuda':\n",
        "    model = nn.DataParallel(model)\n",
        "    cudnn.benchmark = True\n",
        "\n",
        "model = model.to(device)\n",
        "criterion = criterion.to(device)\n",
        "\n",
        "train_loss_list = []\n",
        "train_bleu_list = []\n",
        "train_acc_list = []\n",
        "val_loss_list = []\n",
        "val_bleu_list = []\n",
        "train_perplexity = []\n",
        "val_perplexity = []\n",
        "\n",
        "\n",
        "\n",
        "for epoch in range(num_epochs):\n",
        "    train_loss = 0\n",
        "    train_acc = 0\n",
        "    model.train()\n",
        "\n",
        "    for src_batch, tgt_batch in train_dataloader:\n",
        "\n",
        "        src_batch = torch.tensor(src_batch).long().to(device)\n",
        "        tgt_batch = torch.tensor(tgt_batch).long().to(device)\n",
        "        optimizer.zero_grad()\n",
        "        output, mu, logvar = model(src_batch, tgt_batch)\n",
        "        output = output.view(-1, vocab_size_tgt)\n",
        "        tgt_batch = tgt_batch.view(-1)\n",
        "        loss = criterion(output, tgt_batch)\n",
        "\n",
        "        loss.backward()\n",
        "        optimizer.step()\n",
        "\n",
        "        train_loss += loss.item()\n",
        "    train_bleu = calculate_scores(model, train_dataloader, device)\n",
        "\n",
        "    train_loss /= len(train_dataloader)\n",
        "    train_acc /= len(train_dataloader.dataset)\n",
        "\n",
        "    train_loss_list.append(train_loss)\n",
        "    \n",
        "    train_perplexity.append(torch.exp(torch.tensor(train_loss)))\n",
        "    train_bleu_list.append(train_bleu)\n",
        "    train_acc_list.append(train_acc)\n",
        "\n",
        "    val_loss = 0\n",
        "    val_acc = 0\n",
        "    model.eval()\n",
        "\n",
        "    with torch.no_grad():\n",
        "        for src_batch, tgt_batch in val_dataloader:\n",
        "\n",
        "            src_batch = torch.tensor(src_batch).to(device)\n",
        "            tgt_batch = torch.tensor(tgt_batch).to(device)\n",
        "\n",
        "            output, mu, logvar = model(src_batch, tgt_batch)\n",
        "            output = output.view(-1, vocab_size_tgt)\n",
        "            tgt_batch = tgt_batch.view(-1)\n",
        "            loss = criterion(output, tgt_batch)\n",
        "\n",
        "\n",
        "            val_loss += loss.item()\n",
        "        val_loss /= len(val_dataloader)\n",
        "        val_bleu = calculate_scores(model, val_dataloader, device)\n",
        "\n",
        "        val_loss_list.append(val_loss)\n",
        "        val_perplexity.append(torch.exp(torch.tensor(val_loss)))\n",
        "        val_bleu_list.append(val_bleu)\n",
        "\n",
        "    print(f\"Epoch {epoch+1}: train_loss={train_loss:.4f} train_bleu={train_bleu:.4f} \\n \\\n",
        "            Epoch {epoch+1}: val_loss={val_loss:.4f} val_bleu={val_bleu:.4f}\")\n",
        "    model_path = \"/content/tdvae_dl_project.pt\"\n",
        "    torch.save(model.state_dict(), model_path)\n",
        "    drive_path = \"/content/drive/MyDrive/tdvae_dl_project.pt\"\n",
        "    shutil.copyfile(model_path,drive_path)\n",
        "\n",
        "\n"
      ],
      "metadata": {
        "id": "sDeWsmwmzuGz",
        "colab": {
          "base_uri": "https://localhost:8080/"
        },
        "outputId": "c3c046fc-2ab6-4ce3-87b9-b28b483ec898"
      },
      "execution_count": null,
      "outputs": [
        {
          "output_type": "stream",
          "name": "stderr",
          "text": [
            "<ipython-input-13-43a70728c42f>:29: UserWarning: To copy construct from a tensor, it is recommended to use sourceTensor.clone().detach() or sourceTensor.clone().detach().requires_grad_(True), rather than torch.tensor(sourceTensor).\n",
            "  src_batch = torch.tensor(src_batch).long().to(device)\n",
            "<ipython-input-13-43a70728c42f>:30: UserWarning: To copy construct from a tensor, it is recommended to use sourceTensor.clone().detach() or sourceTensor.clone().detach().requires_grad_(True), rather than torch.tensor(sourceTensor).\n",
            "  tgt_batch = torch.tensor(tgt_batch).long().to(device)\n",
            "<ipython-input-12-7ad1d4157a1b>:9: UserWarning: To copy construct from a tensor, it is recommended to use sourceTensor.clone().detach() or sourceTensor.clone().detach().requires_grad_(True), rather than torch.tensor(sourceTensor).\n",
            "  src_batch = torch.tensor(src_batch).long().to(device)\n",
            "<ipython-input-12-7ad1d4157a1b>:10: UserWarning: To copy construct from a tensor, it is recommended to use sourceTensor.clone().detach() or sourceTensor.clone().detach().requires_grad_(True), rather than torch.tensor(sourceTensor).\n",
            "  tgt_batch = torch.tensor(tgt_batch).long().to(device)\n",
            "<ipython-input-13-43a70728c42f>:59: UserWarning: To copy construct from a tensor, it is recommended to use sourceTensor.clone().detach() or sourceTensor.clone().detach().requires_grad_(True), rather than torch.tensor(sourceTensor).\n",
            "  src_batch = torch.tensor(src_batch).to(device)\n",
            "<ipython-input-13-43a70728c42f>:60: UserWarning: To copy construct from a tensor, it is recommended to use sourceTensor.clone().detach() or sourceTensor.clone().detach().requires_grad_(True), rather than torch.tensor(sourceTensor).\n",
            "  tgt_batch = torch.tensor(tgt_batch).to(device)\n"
          ]
        },
        {
          "output_type": "stream",
          "name": "stdout",
          "text": [
            "Epoch 1: train_loss=6.2455 train_bleu=0.0021 \n",
            "             Epoch 1: val_loss=6.0453 val_bleu=0.0019\n",
            "Epoch 2: train_loss=5.5646 train_bleu=0.1018 \n",
            "             Epoch 2: val_loss=5.0887 val_bleu=0.1016\n",
            "Epoch 3: train_loss=4.8099 train_bleu=0.1151 \n",
            "             Epoch 3: val_loss=3.9721 val_bleu=0.1150\n",
            "Epoch 4: train_loss=3.6254 train_bleu=0.2540 \n",
            "             Epoch 4: val_loss=2.4287 val_bleu=0.2547\n",
            "Epoch 5: train_loss=2.4934 train_bleu=0.3681 \n",
            "             Epoch 5: val_loss=1.7650 val_bleu=0.3691\n",
            "Epoch 6: train_loss=2.0521 train_bleu=0.4286 \n",
            "             Epoch 6: val_loss=1.4540 val_bleu=0.4296\n",
            "Epoch 7: train_loss=1.7835 train_bleu=0.4564 \n",
            "             Epoch 7: val_loss=1.2711 val_bleu=0.4572\n",
            "Epoch 8: train_loss=1.5579 train_bleu=0.4810 \n",
            "             Epoch 8: val_loss=1.1118 val_bleu=0.4817\n",
            "Epoch 9: train_loss=1.3726 train_bleu=0.5145 \n",
            "             Epoch 9: val_loss=0.9881 val_bleu=0.5147\n",
            "Epoch 10: train_loss=1.2163 train_bleu=0.5152 \n",
            "             Epoch 10: val_loss=0.8934 val_bleu=0.5143\n",
            "Epoch 11: train_loss=1.0847 train_bleu=0.5141 \n",
            "             Epoch 11: val_loss=0.8449 val_bleu=0.5119\n",
            "Epoch 12: train_loss=0.9808 train_bleu=0.5218 \n",
            "             Epoch 12: val_loss=0.8145 val_bleu=0.5191\n",
            "Epoch 13: train_loss=0.9019 train_bleu=0.5261 \n",
            "             Epoch 13: val_loss=0.8109 val_bleu=0.5233\n",
            "Epoch 14: train_loss=0.8355 train_bleu=0.5401 \n",
            "             Epoch 14: val_loss=0.7645 val_bleu=0.5372\n",
            "Epoch 15: train_loss=0.7829 train_bleu=0.5382 \n",
            "             Epoch 15: val_loss=0.7832 val_bleu=0.5354\n",
            "Epoch 16: train_loss=0.7368 train_bleu=0.5369 \n",
            "             Epoch 16: val_loss=0.7451 val_bleu=0.5341\n",
            "Epoch 17: train_loss=0.6973 train_bleu=0.5289 \n",
            "             Epoch 17: val_loss=0.7654 val_bleu=0.5259\n",
            "Epoch 18: train_loss=0.6618 train_bleu=0.5325 \n",
            "             Epoch 18: val_loss=0.7456 val_bleu=0.5296\n",
            "Epoch 19: train_loss=0.6317 train_bleu=0.5698 \n",
            "             Epoch 19: val_loss=0.6954 val_bleu=0.5677\n",
            "Epoch 20: train_loss=0.6029 train_bleu=0.5764 \n",
            "             Epoch 20: val_loss=0.6951 val_bleu=0.5742\n",
            "Epoch 21: train_loss=0.5751 train_bleu=0.5785 \n",
            "             Epoch 21: val_loss=0.6759 val_bleu=0.5764\n",
            "Epoch 22: train_loss=0.5462 train_bleu=0.5866 \n",
            "             Epoch 22: val_loss=0.6624 val_bleu=0.5846\n",
            "Epoch 23: train_loss=0.5216 train_bleu=0.5480 \n",
            "             Epoch 23: val_loss=0.7232 val_bleu=0.5445\n",
            "Epoch 24: train_loss=0.4969 train_bleu=0.5655 \n",
            "             Epoch 24: val_loss=0.7073 val_bleu=0.5626\n",
            "Epoch 25: train_loss=0.4764 train_bleu=0.5557 \n",
            "             Epoch 25: val_loss=0.7418 val_bleu=0.5532\n",
            "Epoch 26: train_loss=0.4576 train_bleu=0.5712 \n",
            "             Epoch 26: val_loss=0.6973 val_bleu=0.5686\n",
            "Epoch 27: train_loss=0.4428 train_bleu=0.5750 \n",
            "             Epoch 27: val_loss=0.7136 val_bleu=0.5721\n",
            "Epoch 28: train_loss=0.4272 train_bleu=0.5593 \n",
            "             Epoch 28: val_loss=0.7482 val_bleu=0.5559\n",
            "Epoch 29: train_loss=0.4134 train_bleu=0.5898 \n",
            "             Epoch 29: val_loss=0.6903 val_bleu=0.5875\n",
            "Epoch 30: train_loss=0.3982 train_bleu=0.5541 \n",
            "             Epoch 30: val_loss=0.7535 val_bleu=0.5503\n"
          ]
        }
      ]
    },
    {
      "cell_type": "code",
      "source": [
        "\n",
        "import matplotlib.pyplot as plt\n",
        "epochs = range(1, num_epochs+1)\n",
        "\n",
        "# Plotting train loss\n",
        "plt.figure(figsize=(10, 5))\n",
        "plt.plot(epochs, train_loss_list, label='Train Loss')\n",
        "plt.plot(epochs, val_loss_list, label='Validation Loss')\n",
        "plt.xlabel('Epochs')\n",
        "plt.ylabel('Loss')\n",
        "plt.title('Train and Validation Loss')\n",
        "plt.legend()\n",
        "plt.show()\n",
        "\n",
        "# Plotting train perplexity\n",
        "plt.figure(figsize=(10, 5))\n",
        "plt.plot(epochs, train_perplexity, label='Train Perplexity')\n",
        "plt.plot(epochs, val_perplexity, label='Validation Perplexity')\n",
        "plt.xlabel('Epochs')\n",
        "plt.ylabel('Perplexity')\n",
        "plt.title('Train and Validation Perplexity')\n",
        "plt.legend()\n",
        "plt.show()"
      ],
      "metadata": {
        "id": "KwBEfXHDIZZT",
        "colab": {
          "base_uri": "https://localhost:8080/",
          "height": 957
        },
        "outputId": "e125262e-5171-4bf6-db06-3e8b87d200e2"
      },
      "execution_count": null,
      "outputs": [
        {
          "output_type": "display_data",
          "data": {
            "text/plain": [
              "<Figure size 1000x500 with 1 Axes>"
            ],
            "image/png": "[encoded data removed]"
          },
          "metadata": {}
        },
        {
          "output_type": "display_data",
          "data": {
            "text/plain": [
              "<Figure size 1000x500 with 1 Axes>"
            ],
            "image/png": "[encoded data removed]"
          },
          "metadata": {}
        }
      ]
    },
    {
      "cell_type": "code",
      "source": [
        "test_bleuscore = bleu_score(model, test_dataloader, device)\n",
        "print(test_bleuscore)"
      ],
      "metadata": {
        "colab": {
          "base_uri": "https://localhost:8080/"
        },
        "id": "bGOCoMe59LQb",
        "outputId": "35e51618-7ca6-4c81-eb5e-723b44f289d5"
      },
      "execution_count": null,
      "outputs": [
        {
          "output_type": "stream",
          "name": "stderr",
          "text": [
            "<ipython-input-11-3b9c78d3e074>:8: UserWarning: To copy construct from a tensor, it is recommended to use sourceTensor.clone().detach() or sourceTensor.clone().detach().requires_grad_(True), rather than torch.tensor(sourceTensor).\n",
            "  src_batch = torch.tensor(src_batch).long().to(device)\n",
            "<ipython-input-11-3b9c78d3e074>:9: UserWarning: To copy construct from a tensor, it is recommended to use sourceTensor.clone().detach() or sourceTensor.clone().detach().requires_grad_(True), rather than torch.tensor(sourceTensor).\n",
            "  tgt_batch = torch.tensor(tgt_batch).long().to(device)\n"
          ]
        },
        {
          "output_type": "stream",
          "name": "stdout",
          "text": [
            "0.5523539486520688\n"
          ]
        }
      ]
    },
    {
      "cell_type": "code",
      "source": [
        "def tokenize_prompt(prompt, src_tokenizer, device):\n",
        "    tokens = src_tokenizer.encode(prompt)\n",
        "    token_tensor = torch.tensor(tokens).long().unsqueeze(0).to(device)\n",
        "    return token_tensor"
      ],
      "metadata": {
        "id": "v5ewBkG0tB_N"
      },
      "execution_count": null,
      "outputs": []
    },
    {
      "cell_type": "code",
      "source": [
        "def tokens_to_text(tokens, tgt_tokenizer):\n",
        "    return tgt_tokenizer.decode(tokens)"
      ],
      "metadata": {
        "id": "amBi9qEANZn3"
      },
      "execution_count": null,
      "outputs": []
    },
    {
      "cell_type": "code",
      "source": [
        "def generate_text(model, prompt, device, max_length=100):\n",
        "    src_input = bert_tokenizer.encode(prompt, add_special_tokens=True, max_length=max_length, truncation=True)\n",
        "    src_input = torch.tensor(src_input).to(device).unsqueeze(0)\n",
        "    desired_length = max_length\n",
        "\n",
        "    generated_sequence = torch.zeros(1, max_length).long().to(device)  # Initialize generated sequence tensor\n",
        "\n",
        "    for i in range(max_length):\n",
        "        output, _, _ = model(src_input, generated_sequence)\n",
        "        # print(\"output\",output)\n",
        "        # print(\"len_output\",len(output))\n",
        "        next_token = output[:, i].argmax(1)\n",
        "        # print(\"next\",bert_tokenizer.decode(next_token, skip_special_tokens=True))\n",
        "        # print(\"next decoded\",next_token)\n",
        "        generated_sequence[:, i] = next_token\n",
        "\n",
        "    generated_tokens = generated_sequence.squeeze(0).tolist()  # Remove batch dimension\n",
        "    generated_text = bert_tokenizer.decode(generated_tokens, skip_special_tokens=True)\n",
        "    \n",
        "\n",
        "    return generated_text\n"
      ],
      "metadata": {
        "id": "ZSsql4PBNciT"
      },
      "execution_count": null,
      "outputs": []
    },
    {
      "cell_type": "code",
      "source": [
        "prompt = \"There was a powerful leader in the Republic\"\n",
        "print(\"\\nprompt: \", prompt)\n",
        "generated_text = generate_text(model, prompt, device, 10)\n",
        "print(\"generated_text: \", generated_text)\n",
        "\n"
      ],
      "metadata": {
        "id": "aLChxCppNiIW",
        "colab": {
          "base_uri": "https://localhost:8080/"
        },
        "outputId": "b514e904-363d-4509-e974-0d3fc5a5d2a2"
      },
      "execution_count": null,
      "outputs": [
        {
          "output_type": "stream",
          "name": "stdout",
          "text": [
            "\n",
            "prompt:  There was a powerful leader in the Republic\n",
            "generated_text:  covering problems issue when in power radical congregation crisis congregation\n"
          ]
        }
      ]
    },
    {
      "cell_type": "code",
      "source": [
        "prompt=' '.join(test_src_tokenized[22])\n",
        "target=' '.join(test_tgt_tokenized[22])\n",
        "\n",
        "print(\"\\nprompt: \", prompt)\n",
        "print(\"\\ntarget: \", target)\n",
        "\n",
        "generated_text = generate_text(model, prompt, device, 15)\n",
        "print(\"generated_text: \", generated_text)"
      ],
      "metadata": {
        "colab": {
          "base_uri": "https://localhost:8080/"
        },
        "id": "fpVBFXo97j-b",
        "outputId": "870f9edd-6b96-4185-b632-fb9442562270"
      },
      "execution_count": null,
      "outputs": [
        {
          "output_type": "stream",
          "name": "stdout",
          "text": [
            "\n",
            "prompt:  wp you live in a world where light helps you retain and regain memory while darkness makes you forget everything one day\n",
            "\n",
            "target:  jennifer woke up in a dark room no light she rubbed her eyes as if that would help her to see ` ` oh god what in the hell she threw herself on bed again too exhausted to move < newline > < newline > not that she remembers but waking up in the dark room with no memory happens to her on regular bases if she has a bad day she turns off the light before she goes to sleep so she does n't have to think about anything and possibly avoid nightmares < newline > < newline > but what the hell happened last night that made her this tired it must have been something horrible last time she was this tired to wake up was when her dog died she stayed in her dark room for 2 days straight < newline > < newline > ` ` i should get something to eat jennifer woke herself up and opened the door from the distance she saw a dim light from kitchen 's curtain a memory came back < newline > < newline > ` ` lucy she yelled as she remembered her 4 months old daughter ` ` oh god lucy my baby mommy is coming she started to wander in the dark hallway and tripped over an object < newline > < newline > ` ` what the hell was that she muttered as she fell on the ground the floor was wet and it was still too dark to see anything ` ` and what is that smell a terrible smells started to fill out the air it was coming from the object that tripped her she stretched her hands trying to find the object the source of the smell < newline > < newline > she followed the smell and got to touch the object it was soft yet cold she instantly knew something was terribly wrong < newline > < newline > ` ` no it can t bee she had to know what was going on still not admitting the reality she carried the object and walked toward the kitchen she wanted to make sure under the light < newline > < newline > as she came close to the light her memory started to come back her childhood college wedding pregnancy lucy and when she remembered her argument with david last week she stopped < newline > < newline > she fell down to her knees and tears started to stream down her cheeks ` ` mommy is sorry lucy mommy is so sorry < newline > < newline > she put lucy back on the floor and head back to her room she knew what she had to do or what she could only do < newline > < newline > she closed the door behind her and just before the dim light from the kitchen went completely off she said < newline > < newline > ` ` hi david < newline >\n",
            "generated_text:  issue recollect and power of congregation come as knowledge congregation problems covering power in power\n"
          ]
        }
      ]
    },
    {
      "cell_type": "markdown",
      "source": [
        "# Conclusion\n",
        "\n",
        "The model did not perform well. We have explained the reasons in the report in detail."
      ],
      "metadata": {
        "id": "hsLhlCymPCM6"
      }
    }
  ]
}